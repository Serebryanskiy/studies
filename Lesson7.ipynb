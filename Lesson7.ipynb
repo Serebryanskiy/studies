{
 "cells": [
  {
   "cell_type": "markdown",
   "metadata": {},
   "source": [
    "### Интегральное исчисление ###"
   ]
  },
  {
   "cell_type": "markdown",
   "metadata": {},
   "source": [
    "#### Задание 1. Найти неопределенный интеграл: ####\n",
    "$$\n",
    "\\int\\left(2 x^{2}-2 x-1+\\sin x-\\cos x+\\ln x+e^{x}\\right) dx\n",
    "$$"
   ]
  },
  {
   "cell_type": "markdown",
   "metadata": {},
   "source": [
    "$$\n",
    "\\int\\left(2 x^{2}-2 x-1+\\sin x-\\cos x+\\ln x+e^{x}\\right) dx = \\frac{2}{3}x^3 - x^2 - x - cosx - sinx + xln(x) - x + e^x + C\n",
    "$$"
   ]
  },
  {
   "cell_type": "markdown",
   "metadata": {},
   "source": [
    "#### Задание 2.  Найти неопределенный интеграл: ####\n",
    "\n",
    "$$\n",
    "\\int\\left(2 x+6 x z^{2}-5 x^{2} y-3 \\ln z\\right) d x = x^2 + 3x^2z^2 - \\frac{5}{3}x^3y - 3\\ln z x + C\n",
    "$$"
   ]
  },
  {
   "cell_type": "markdown",
   "metadata": {},
   "source": [
    "#### Задание 3. Вычислить определенный интеграл ####\n",
    "$$\n",
    "\\int_{0}^{\\pi} 3 x^{2} \\sin (2 x) d x\n",
    "$$"
   ]
  },
  {
   "cell_type": "markdown",
   "metadata": {},
   "source": [
    "$$ 3\\int\\limits_0^{\\pi} x^{2} \\sin (2 x) d x = -\\frac{3}{2} \\int\\limits_0^{\\pi} x^{2} d \\cos (2 x) = -\\frac{3}{2}\\left(x^{2} \\cos (2 x)-\\int\\limits_0^{\\pi} \\cos (2 x) d\\left(x^{2}\\right)\\right) = -\\frac{3}{2}\\left(x^{2} \\cos (2 x)-\\frac{2}{2} \\int\\limits_0^{\\pi} x \\cdot d \\sin (2 x)\\right) = -\\frac{3}{2}\\left(x^{2} \\cos (2 x) ^{\\pi}+\\frac{2}{2}\\left(x \\cdot \\sin (2 x) - \\int\\limits_0^{\\pi} \\sin (2 x) d x\\right)\\right)= -\\frac{3}{2}(\\left.(x^{2} \\cos (2 x)+\\frac{2}{2}\\left(x \\cdot \\sin (2 x) + \\frac{1}{2}\\cos (2 x)\\right)) \\right|_0^{\\pi} = -\\frac{3}{2} ({\\pi}^2 + \\frac{1}{2} - \\frac{1}{2} ) = -\\frac{3}{2} {\\pi}^2$$"
   ]
  },
  {
   "cell_type": "markdown",
   "metadata": {},
   "source": [
    "#### Задание 4. Найти производную выражения ####\n",
    "$$ \\left.\\int \\frac{1}{\\sqrt{x+1}} dx\\right|_{t=\\sqrt{x+1}} = \\int t^{-1} \\cdot 2t\\ dt  = 2t = 2 \\cdot \\sqrt{x+1} + C$$"
   ]
  },
  {
   "cell_type": "markdown",
   "metadata": {},
   "source": [
    "#### Задание 5. Классифицировать ДУ и найти его решение: ####\n",
    "\n",
    "$$ \\left(4 x^{2}+\\frac{1}{2} y^{2}-6 y\\right) d x+\\left(2 y^{3}+x y-6 x\\right) d y=0 $$"
   ]
  },
  {
   "cell_type": "markdown",
   "metadata": {},
   "source": [
    "Неявное уравнение третьего порядка в полных дифференциалах"
   ]
  },
  {
   "cell_type": "markdown",
   "metadata": {},
   "source": [
    "\\begin{array}{l}{\\frac{\\partial P(x, y)}{\\partial y}=y-6} \\\\ {\\frac{\\partial Q(x, y)}{\\partial x}=y-6}\\end{array}  =>  $\\left(4 x^{2}+\\frac{1}{2} y^{2}-6 y\\right) d x+\\left(2 y^{3}+x y-6 x\\right) d y=dF(x,y) $\n",
    "\n",
    "$$ \\frac{\\partial F(x, y)}{\\partial x}  = 4 x^{2}+\\frac{1}{2} y^{2}-6 y $$\n",
    "$$ \\int \\frac{\\partial F(x, y)}{\\partial x} dx  = \\int 4 x^{2}+\\frac{1}{2} y^{2}-6 y\\ dx = \\frac{4}{3}x^3 + x\\cdot (\\frac{1}{2} y^{2}-6y) + \\varphi(y) $$\n",
    "\n",
    "$$ \\int \\frac{\\partial F(x, y)}{\\partial y} =  x ( y - 6) + \\varphi^{\\prime}(y)$$\n",
    "\n",
    "$$ 2 y^{3}+x y-6 x = x ( y - 6) + \\varphi^{\\prime}(y) $$\n",
    "$$ \\varphi^{\\prime}(y) =  2 y^{3} $$\n",
    "$$ \\varphi(y) =  \\int2 y^{3} = \\frac {2}{4}y^4 + C $$ => \n",
    "\n",
    "$$ F(x,y) = \\frac{4}{3}x^3 + x\\cdot (\\frac{1}{2} y^{2}-6y) + \\frac {2}{4}y^4 + C $$"
   ]
  },
  {
   "cell_type": "markdown",
   "metadata": {},
   "source": [
    "#### Задание 6. Классифицировать ДУ и найти его решение: ####\n",
    "$$ y^{\\prime}+y=x^{2} y^{3} $$"
   ]
  },
  {
   "cell_type": "markdown",
   "metadata": {},
   "source": [
    "Уравнение Бернулли"
   ]
  },
  {
   "cell_type": "markdown",
   "metadata": {},
   "source": [
    "Сделаем замену: $ y=u v, y^{\\prime}=u^{\\prime} v+u v^{\\prime} $, тогда\n",
    "$$ u^{\\prime} v+u v^{\\prime} + uv = x^2 \\cdot u^3 \\cdot v^3 $$\n",
    "$$ u^{\\prime} v+u (v^{\\prime} + v) = x^2 \\cdot u^3 \\cdot v^3 $$\n",
    "\n",
    "Найдём такое v, что\n",
    "$$ \\left(\\begin{array}{l}{v^{\\prime}+ v=0} \\\\ {u^{\\prime} v=x^2 \\cdot u^3 \\cdot v^3}\\end{array}\\right) $$\n",
    "\n",
    "Из первого получаем, что:\n",
    "\n",
    "\\begin{array}{c}{v^{\\prime}+ v=0} \\\\ {\\frac{d v}{d x}=-v} \\\\ {\\frac{d v}{v}=-d x} \\\\ {l n|v|=-x} \\\\ {v=e^{-x}}\\end{array}"
   ]
  },
  {
   "cell_type": "markdown",
   "metadata": {},
   "source": [
    "Подставляем v во второе уравнение:\n",
    "\\begin{aligned} u^{\\prime} v &= x^2 \\cdot u^3 \\cdot v^3 \\\\ \\frac{d u}{d x} &=\\frac{1}{v} x^2 \\cdot u^3 \\cdot v^3 \\\\ \\frac{du}{u^3} &= x^2 \\cdot v^2\\ dx \\\\ -\\frac{u^{-2}}{3}=& \\int x^2 e^{-2x} d x \\\\ \\frac{1}{u^{2}}=& -3\\int x^2 e^{-2x} d x  \\\\ u =  \\sqrt{-\\frac{1}{3\\int x^2 e^{-2x} d x}} \\end{aligned}"
   ]
  },
  {
   "cell_type": "markdown",
   "metadata": {},
   "source": [
    "$$y =  e^{-x} \\cdot \\sqrt{-\\frac{1}{3\\int x^2 e^{-2x} d x}}$$"
   ]
  }
 ],
 "metadata": {
  "kernelspec": {
   "display_name": "Python 3",
   "language": "python",
   "name": "python3"
  },
  "language_info": {
   "codemirror_mode": {
    "name": "ipython",
    "version": 3
   },
   "file_extension": ".py",
   "mimetype": "text/x-python",
   "name": "python",
   "nbconvert_exporter": "python",
   "pygments_lexer": "ipython3",
   "version": "3.7.3"
  }
 },
 "nbformat": 4,
 "nbformat_minor": 2
}
