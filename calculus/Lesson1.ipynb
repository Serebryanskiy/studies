{
 "cells": [
  {
   "cell_type": "markdown",
   "metadata": {},
   "source": [
    "## Тема 1. Знакомство с математическим анализом ##\n"
   ]
  },
  {
   "cell_type": "markdown",
   "metadata": {},
   "source": [
    "### 1. Как относятся друг к другу множество и последовательность? (в ответе использовать слова типа: часть, целое, общее, частное, родитель, дочерний субъект и т.д.) ###"
   ]
  },
  {
   "cell_type": "markdown",
   "metadata": {},
   "source": [
    "Последовательность это подмножество непустого множества."
   ]
  },
  {
   "cell_type": "markdown",
   "metadata": {},
   "source": [
    "### 2. Прочитать высказывания математической логики, построить их отрицания и *установить истинность. ###"
   ]
  },
  {
   "cell_type": "markdown",
   "metadata": {},
   "source": [
    "#### 2.1 $$\\forall y \\in[0 ; 1] : \\operatorname{sgn}(y)=1$$ ####"
   ]
  },
  {
   "cell_type": "markdown",
   "metadata": {},
   "source": [
    "- Для всех y принадлежащих отрезку от нуля включительно до единицы включительно значение функции sgn равно единице (или знак положителен). [ Верно ]\n",
    "\n",
    "$$\\ \\exists y \\in[0 ; 1] : \\operatorname{sgn}(y)=0$$"
   ]
  },
  {
   "cell_type": "markdown",
   "metadata": {},
   "source": [
    "#### 2.2####"
   ]
  },
  {
   "cell_type": "markdown",
   "metadata": {},
   "source": [
    "$${\\forall n \\in \\mathbb{N}>2 : \\exists x, y, z \\in \\mathbb{N} : x^{n}=y^{n}+z^{n}}$$"
   ]
  },
  {
   "cell_type": "markdown",
   "metadata": {},
   "source": [
    "- Для любого натурального числа строго большего двум существуют такие x,y,z из множества натуральных чисел, что x в степени n равно y в степени [ верно, если y = x = z ]\n",
    "\n",
    "$${\\exists n \\in \\mathbb{N}\\le2 : \\forall x, y, z \\in \\mathbb{N} : x^{n} \\ne y^{n}+z^{n}}$$"
   ]
  },
  {
   "cell_type": "markdown",
   "metadata": {},
   "source": [
    "#### 2.3####"
   ]
  },
  {
   "cell_type": "markdown",
   "metadata": {},
   "source": [
    "$$ \\forall x \\in \\mathbb{R} \\exists X \\in \\mathbb{R} : X>x $$"
   ]
  },
  {
   "cell_type": "markdown",
   "metadata": {},
   "source": [
    "- Для любого x из множества вещественных чисел существует Х принадлежащий множеству вещественных чисел, такой, что X больше x [ верно ]\n",
    "\n",
    "$$ \\exists x \\in \\mathbb{R} \\forall X \\in \\mathbb{R} : X\\le x $$"
   ]
  },
  {
   "cell_type": "markdown",
   "metadata": {},
   "source": [
    "#### 2.4####"
   ]
  },
  {
   "cell_type": "markdown",
   "metadata": {},
   "source": [
    "$$\\forall x \\in \\mathbb{C} \\not \\exists y \\in \\mathbb{C} : x>y \\| x<y$$ "
   ]
  },
  {
   "cell_type": "markdown",
   "metadata": {},
   "source": [
    "- Для любого x из множества комплексных чисел не существует такого y из множества комплексных чисел, что либо x строго больше y, либо x строго меньше y [ верно ]\n",
    "\n",
    "$$\\not \\exists x \\in \\mathbb{C} \\exists y \\in \\mathbb{C} : x\\le y \\& x\\ge y$$ "
   ]
  },
  {
   "cell_type": "markdown",
   "metadata": {},
   "source": [
    "#### 2.5####"
   ]
  },
  {
   "cell_type": "markdown",
   "metadata": {},
   "source": [
    "$$ {\\forall y \\in\\left[0 ; \\frac{\\pi}{2}\\right] \\exists \\varepsilon>0 : \\sin y<\\sin (y+\\varepsilon)} $$ "
   ]
  },
  {
   "cell_type": "markdown",
   "metadata": {},
   "source": [
    "- Для всех y принадлежащих отрезку от нуля включитнльно до пи на два включительно существует эпсилон строго большое нуля такое, что синус y строго меньше синуса y плюс эпсилон [ верно ]\n",
    "\n",
    "$$ {\\exists y \\in\\left[0 ; \\frac{\\pi}{2}\\right] \\forall \\varepsilon\\le 0 : \\sin y\\ge\\sin (y+\\varepsilon)} $$ "
   ]
  },
  {
   "cell_type": "markdown",
   "metadata": {},
   "source": [
    "#### 2.6####"
   ]
  },
  {
   "cell_type": "markdown",
   "metadata": {},
   "source": [
    "$$ {\\forall y \\in[0 ; \\pi) \\exists \\varepsilon>0 : \\cos y>\\cos (y+\\varepsilon)} $$ "
   ]
  },
  {
   "cell_type": "markdown",
   "metadata": {},
   "source": [
    "- Для всех y принадлежащих отрезку от нуля включитнльно до пи существует эпсилон строго большое нуля такое, что косинус y строго больше косинуса y плюс эпсилон [ верно ]\n",
    "\n",
    "$$ {\\exists y \\in[0 ; \\pi) \\forall \\varepsilon \\le 0 : \\cos y \\le \\cos (y+\\varepsilon)} $$ "
   ]
  },
  {
   "cell_type": "markdown",
   "metadata": {},
   "source": [
    "#### 2.7####"
   ]
  },
  {
   "cell_type": "markdown",
   "metadata": {},
   "source": [
    "$$ {\\quad \\exists x : x \\notin\\{\\mathbb{N}, \\mathbb{Z}, \\mathbb{Q}, \\mathbb{R}, \\mathbb{C}\\}} $$"
   ]
  },
  {
   "cell_type": "markdown",
   "metadata": {},
   "source": [
    "- Существует x такой, что x не принадлежит множеству множест натуральных, целых, рациональных, вещественных и комплексных чисел. (равносильно не принадлежат множеству комплексных чисел) [ верно ]\n",
    "\n",
    "$$ {\\quad \\forall x : x \\in\\{\\mathbb{N}, \\mathbb{Z}, \\mathbb{Q}, \\mathbb{R}, \\mathbb{C}\\}} $$"
   ]
  },
  {
   "cell_type": "markdown",
   "metadata": {},
   "source": [
    "## Тема 2. Множества ##\n"
   ]
  },
  {
   "cell_type": "markdown",
   "metadata": {},
   "source": [
    "### 1. Даны три множества a,b и с. Необходимо выполнить все изученные виды бинарных операций над всеми комбинациями множеств. \n",
    "### a: {0; 1; 3; 4; 6} \n",
    "### b: {0; 4; 6; 7; 8; 10; 12} \n",
    "### c: {0; 2; 5; 6; 9; 11; 12; 14; 16} ###"
   ]
  },
  {
   "cell_type": "markdown",
   "metadata": {},
   "source": [
    "$$\n",
    "A \\cap B=\\{x | x \\in A \\& x \\in B\\}\n",
    "$$"
   ]
  },
  {
   "cell_type": "markdown",
   "metadata": {},
   "source": [
    "$$a \\cap b      = \\{0; 4; 6\\}$$\n",
    "$$a \\cap c      = \\{0; 6\\}$$\n",
    "$$b \\cap c      = \\{0; 12; 6\\}$$\n",
    "$$a \\cap b \\cap c  = \\{0; 6\\}$$"
   ]
  },
  {
   "cell_type": "markdown",
   "metadata": {},
   "source": [
    "$$\n",
    "A \\cup B=\\{x | x \\in A \\| x \\in B\\}\n",
    "$$"
   ]
  },
  {
   "cell_type": "markdown",
   "metadata": {},
   "source": [
    "$$a \\cup b= \\{0; 1; 3; 4; 6; 7; 8; 10; 12\\} $$\n",
    "$$ a \\cup c      = \\{0; 1; 2; 3; 4; 5; 6; 9; 11; 12; 14; 16\\} $$\n",
    "$$ b \\cup c      = \\{0; 2; 4; 5; 6; 7; 8; 9; 10; 11; 12; 14; 16\\} $$\n",
    "$$ a \\cup b \\cup c  = \\{0; 1; 2; 3; 4; 5; 6; 7; 8; 9; 10; 11; 12; 14; 16\\} $$\n"
   ]
  },
  {
   "cell_type": "markdown",
   "metadata": {},
   "source": [
    "$$\n",
    "A \\backslash B=A \\cap \\overline{B}=\\{x | x \\in A \\& x \\notin B\\}\n",
    "$$"
   ]
  },
  {
   "cell_type": "markdown",
   "metadata": {},
   "source": [
    "$$a \\backslash b      = \\{1; 3\\} $$\n",
    "$$a \\backslash c      = \\{1; 3; 4\\} $$\n",
    "$$b \\backslash a      = \\{8; 10; 12; 7\\} $$\n",
    "$$b \\backslash c      = \\{8; 10; 4; 7\\} $$\n",
    "$$c \\backslash a      = \\{2; 5; 9; 11; 12; 14; 16\\} $$\n",
    "$$c \\backslash b      = \\{2; 5; 9; 11; 14; 16\\} $$\n",
    "$$a \\backslash b \\backslash c  = \\{1; 3\\} $$\n",
    "$$b \\backslash a \\backslash c  = \\{8; 10; 7\\} $$\n",
    "$$c \\backslash a \\backslash b  = \\{2; 5; 9; 11; 14; 16\\} $$\n"
   ]
  },
  {
   "cell_type": "markdown",
   "metadata": {},
   "source": [
    "$$\n",
    "A \\triangle B=\\{x | x \\in A \\oplus x \\in B\\}\n",
    "$$"
   ]
  },
  {
   "cell_type": "markdown",
   "metadata": {},
   "source": [
    "$$a \\triangle b      = \\{1; 3; 7; 8; 10; 12\\} $$\n",
    "$$a \\triangle c      = \\{1; 2; 3; 4; 5; 9; 11; 12; 14; 16\\} $$\n",
    "$$b \\triangle c      = \\{2; 4; 5; 7; 8; 9; 10; 11; 14; 16\\} $$\n",
    "$$a \\triangle b \\triangle c  = \\{0; 1; 2; 3; 5; 6; 7; 8; 9; 10; 11; 14; 16\\} $$\n"
   ]
  },
  {
   "cell_type": "markdown",
   "metadata": {},
   "source": [
    "### 2.   *Выполнить задание 1 на языке Python ###"
   ]
  },
  {
   "cell_type": "code",
   "execution_count": 19,
   "metadata": {},
   "outputs": [
    {
     "name": "stdout",
     "output_type": "stream",
     "text": [
      "a: {0, 1, 3, 4, 6}\n",
      "b: {0, 4, 6, 7, 8, 10, 12}\n",
      "c: {0, 2, 5, 6, 9, 11, 12, 14, 16}\n"
     ]
    }
   ],
   "source": [
    "import numpy as np\n",
    "\n",
    "np.random.seed(7)\n",
    "\n",
    "a = set(np.random.randint(0,7,10))\n",
    "b = set(np.random.randint(0,13,10))\n",
    "c = set(np.random.randint(0,17,10))\n",
    "\n",
    "print(f'a: {a}\\nb: {b}\\nc: {c}')"
   ]
  },
  {
   "cell_type": "code",
   "execution_count": 21,
   "metadata": {},
   "outputs": [
    {
     "name": "stdout",
     "output_type": "stream",
     "text": [
      "a & b      {0, 4, 6}\n",
      "a & c      {0, 6}\n",
      "b & c      {0, 12, 6}\n",
      "a & b & c  {0, 6}\n"
     ]
    }
   ],
   "source": [
    "# Пересечение\n",
    "\n",
    "print('a & b     ',a & b)\n",
    "print('a & c     ',a & c)\n",
    "print('b & c     ',b & c)\n",
    "print('a & b & c ',a & b & c)"
   ]
  },
  {
   "cell_type": "code",
   "execution_count": 22,
   "metadata": {},
   "outputs": [
    {
     "name": "stdout",
     "output_type": "stream",
     "text": [
      "a | b      {0, 1, 3, 4, 6, 7, 8, 10, 12}\n",
      "a | c      {0, 1, 2, 3, 4, 5, 6, 9, 11, 12, 14, 16}\n",
      "b | c      {0, 2, 4, 5, 6, 7, 8, 9, 10, 11, 12, 14, 16}\n",
      "a | b | c  {0, 1, 2, 3, 4, 5, 6, 7, 8, 9, 10, 11, 12, 14, 16}\n"
     ]
    }
   ],
   "source": [
    "# Объединение\n",
    "\n",
    "print('a | b     ',a | b)\n",
    "print('a | c     ',a | c)\n",
    "print('b | c     ',b | c)\n",
    "print('a | b | c ',a | b | c)\n"
   ]
  },
  {
   "cell_type": "code",
   "execution_count": 24,
   "metadata": {},
   "outputs": [
    {
     "name": "stdout",
     "output_type": "stream",
     "text": [
      "a - b      {1, 3}\n",
      "a - c      {1, 3, 4}\n",
      "b - a      {8, 10, 12, 7}\n",
      "b - c      {8, 10, 4, 7}\n",
      "c - a      {2, 5, 9, 11, 12, 14, 16}\n",
      "c - b      {2, 5, 9, 11, 14, 16}\n",
      "a - b - c  {1, 3}\n",
      "b - a - c  {8, 10, 7}\n",
      "c - a - b  {2, 5, 9, 11, 14, 16}\n"
     ]
    }
   ],
   "source": [
    "# Разность\n",
    "\n",
    "print('a - b     ',a - b)\n",
    "print('a - c     ',a - c)\n",
    "print('b - a     ',b - a)\n",
    "print('b - c     ',b - c)\n",
    "print('c - a     ',c - a)\n",
    "print('c - b     ',c - b)\n",
    "print('a - b - c ',a - b - c)\n",
    "print('b - a - c ',b - a - c)\n",
    "print('c - a - b ',c - a - b)"
   ]
  },
  {
   "cell_type": "code",
   "execution_count": 25,
   "metadata": {},
   "outputs": [
    {
     "name": "stdout",
     "output_type": "stream",
     "text": [
      "a ^ b      {1, 3, 7, 8, 10, 12}\n",
      "a ^ c      {1, 2, 3, 4, 5, 9, 11, 12, 14, 16}\n",
      "b ^ c      {2, 4, 5, 7, 8, 9, 10, 11, 14, 16}\n",
      "a ^ b ^ c  {0, 1, 2, 3, 5, 6, 7, 8, 9, 10, 11, 14, 16}\n"
     ]
    }
   ],
   "source": [
    "# Симметрическая разность\n",
    "\n",
    "print('a ^ b     ',a ^ b)\n",
    "print('a ^ c     ',a ^ c)\n",
    "print('b ^ c     ',b ^ c)\n",
    "print('a ^ b ^ c ',a ^ b ^ c)"
   ]
  },
  {
   "cell_type": "markdown",
   "metadata": {},
   "source": [
    "## Тема 3. Последовательность ##\n"
   ]
  },
  {
   "cell_type": "markdown",
   "metadata": {},
   "source": [
    "Даны 4 последовательности.\n",
    "\n",
    "Необходимо:\n",
    "1) исследовать их на монотонность; \n",
    "2) исследовать на ограниченность;\n",
    "3) найти пятый по счету член.\n"
   ]
  },
  {
   "cell_type": "markdown",
   "metadata": {},
   "source": [
    "$$\n",
    "\\begin{array}{}{1.\\ \\left\\{a_{n}\\right\\}_{n=1}^{\\infty}=2^{n}-n} \\\\ {2.\\ \\left\\{b_{n}\\right\\}_{n=2}^{\\infty}=\\frac{1}{1-n}} \\\\ {3.\\ \\left\\{c_{n}\\right\\}_{n=1}^{\\infty}=-1^{n}+\\sqrt{2 n}} \\\\ {4.\\ \\left\\{d_{n}\\right\\}_{n=1}^{\\infty}=(-1)^{2 n}+\\frac{1}{n^{2}}}\\end{array}\n",
    "$$"
   ]
  },
  {
   "cell_type": "markdown",
   "metadata": {},
   "source": [
    "$ 1.\\ \\left\\{a_{n}\\right\\}_{n=1}^{\\infty}=2^{n}-n $"
   ]
  },
  {
   "cell_type": "code",
   "execution_count": 55,
   "metadata": {},
   "outputs": [
    {
     "name": "stdout",
     "output_type": "stream",
     "text": [
      "5-ый член последовательности:  27\n"
     ]
    },
    {
     "data": {
      "image/png": "[encoded data removed]",
      "text/plain": [
       "<Figure size 432x288 with 1 Axes>"
      ]
     },
     "metadata": {
      "needs_background": "light"
     },
     "output_type": "display_data"
    }
   ],
   "source": [
    "import matplotlib.pyplot as plt\n",
    "\n",
    "n = np.array(range(1,8))\n",
    "y1=np.power(2,n)\n",
    "y2=n\n",
    "plt.plot(n,y1,label='2^n')\n",
    "plt.plot(n,y2,label='n')\n",
    "plt.legend()\n",
    "print('5-ый член последовательности: ', np.power(2,5) - 5)"
   ]
  },
  {
   "cell_type": "markdown",
   "metadata": {},
   "source": [
    "Видим, что последовательность 2^n растёт значительно быстрее, чем n и очевидно что вся последовательность является возрастаеющей. \n",
    "1) Возрастание\n",
    "2) Неограничена\n",
    "3) 27"
   ]
  },
  {
   "cell_type": "markdown",
   "metadata": {},
   "source": []
  },
  {
   "cell_type": "markdown",
   "metadata": {},
   "source": [
    "$ 2.\\ \\left\\{b_{n}\\right\\}_{n=2}^{\\infty}=\\frac{1}{1-n} $"
   ]
  },
  {
   "cell_type": "code",
   "execution_count": 58,
   "metadata": {},
   "outputs": [
    {
     "name": "stdout",
     "output_type": "stream",
     "text": [
      "5-ый член последовательности:  -0.25\n"
     ]
    },
    {
     "data": {
      "image/png": "[encoded data removed]",
      "text/plain": [
       "<Figure size 432x288 with 1 Axes>"
      ]
     },
     "metadata": {
      "needs_background": "light"
     },
     "output_type": "display_data"
    }
   ],
   "source": [
    "n = np.array(range(2,100))\n",
    "y=1 / (1 - n)\n",
    "plt.plot(n,y,label='1 / (1 - n)')\n",
    "plt.legend()\n",
    "print('5-ый член последовательности: ', 1 / (1 - 5))"
   ]
  },
  {
   "cell_type": "markdown",
   "metadata": {},
   "source": [
    "Очевидно, что последовательность ограничена нулём сверху и возврастает\n",
    "1) Возрастание\n",
    "2) Ограничена нулём сверху\n",
    "3) -0.25"
   ]
  },
  {
   "cell_type": "markdown",
   "metadata": {},
   "source": []
  },
  {
   "cell_type": "markdown",
   "metadata": {},
   "source": [
    "$ {3.\\ \\left\\{c_{n}\\right\\}_{n=1}^{\\infty}=-1^{n}+\\sqrt{2 n}} $"
   ]
  },
  {
   "cell_type": "code",
   "execution_count": 64,
   "metadata": {},
   "outputs": [
    {
     "name": "stdout",
     "output_type": "stream",
     "text": [
      "Последовательность:  [ 0.41421356  3.          1.44948974  3.82842712  2.16227766  4.46410162\n",
      "  2.74165739  5.          3.24264069  5.47213595  3.69041576  5.89897949\n",
      "  4.09901951  6.29150262  4.47722558  6.65685425  4.83095189  7.\n",
      "  5.164414    7.32455532  5.4807407   7.63324958  5.78232998  7.92820323\n",
      "  6.07106781  8.21110255  6.34846923  8.48331477  6.61577311  8.74596669\n",
      "  6.87400787  9.          7.1240384   9.24621125  7.36660027  9.48528137\n",
      "  7.60232527  9.71779789  7.83176087  9.94427191  8.05538514 10.16515139\n",
      "  8.2736185  10.38083152  8.48683298 10.59166305  8.69535971 10.79795897\n",
      "  8.89949494]\n",
      "5-ый член последовательности:  2.1622776601683795\n"
     ]
    },
    {
     "data": {
      "image/png": "[encoded data removed]",
      "text/plain": [
       "<Figure size 432x288 with 1 Axes>"
      ]
     },
     "metadata": {
      "needs_background": "light"
     },
     "output_type": "display_data"
    }
   ],
   "source": [
    "n = np.array(range(1,50))\n",
    "y=(-1) ** n  + (2*n) ** (1/2)\n",
    "print('Последовательность: ', y)\n",
    "plt.plot(n,y,label='(-1) ** n  + (2*n) ** (1/2)')\n",
    "plt.legend()\n",
    "print('5-ый член последовательности: ', (-1) ** 5  + (2*5) ** (1/2))"
   ]
  },
  {
   "cell_type": "markdown",
   "metadata": {},
   "source": [
    "1) Не монотонна\n",
    "2) Не ограничена\n",
    "3) 2.1622776601683795"
   ]
  },
  {
   "cell_type": "markdown",
   "metadata": {},
   "source": []
  },
  {
   "cell_type": "markdown",
   "metadata": {},
   "source": [
    "$ 4.\\ \\left\\{d_{n}\\right\\}_{n=1}^{\\infty}=(-1)^{2 n}+\\frac{1}{n^{2}} $"
   ]
  },
  {
   "cell_type": "code",
   "execution_count": 67,
   "metadata": {},
   "outputs": [
    {
     "name": "stdout",
     "output_type": "stream",
     "text": [
      "Последовательность:  [2.         1.25       1.11111111 1.0625     1.04       1.02777778\n",
      " 1.02040816 1.015625   1.01234568 1.01       1.00826446 1.00694444\n",
      " 1.00591716]\n",
      "5-ый член последовательности:  1.04\n"
     ]
    },
    {
     "data": {
      "image/png": "[encoded data removed]",
      "text/plain": [
       "<Figure size 432x288 with 1 Axes>"
      ]
     },
     "metadata": {
      "needs_background": "light"
     },
     "output_type": "display_data"
    }
   ],
   "source": [
    "n = np.array(range(1,14))\n",
    "y=(-1) ** (2 * n)  + 1 / (n ** 2)\n",
    "print('Последовательность: ', y)\n",
    "plt.plot(n,y,label='(-1) ** (2 * n)  + 1 / (n ** 2)')\n",
    "plt.legend()\n",
    "print('5-ый член последовательности: ',(-1) ** (2 * 5)  + 1 / (5 ** 2))"
   ]
  },
  {
   "cell_type": "markdown",
   "metadata": {},
   "source": [
    "1) Убывает\n",
    "2) Ограничена снизу единицей\n",
    "3) 1.04"
   ]
  },
  {
   "cell_type": "markdown",
   "metadata": {},
   "source": [
    "### Найти 12-й член заданной неявно последовательности  ###"
   ]
  },
  {
   "cell_type": "markdown",
   "metadata": {},
   "source": [
    " $$\n",
    "a_{1}=128, a_{n+1}-a_{n}=6\n",
    "$$"
   ]
  },
  {
   "cell_type": "code",
   "execution_count": 70,
   "metadata": {},
   "outputs": [
    {
     "data": {
      "text/plain": [
       "194"
      ]
     },
     "execution_count": 70,
     "metadata": {},
     "output_type": "execute_result"
    }
   ],
   "source": [
    "n = 12\n",
    "a_12 = 128 + 6*(n-1)\n",
    "a_12"
   ]
  },
  {
   "cell_type": "markdown",
   "metadata": {},
   "source": [
    "Ответ: 194"
   ]
  }
 ],
 "metadata": {
  "kernelspec": {
   "display_name": "Python 3",
   "language": "python",
   "name": "python3"
  },
  "language_info": {
   "codemirror_mode": {
    "name": "ipython",
    "version": 3
   },
   "file_extension": ".py",
   "mimetype": "text/x-python",
   "name": "python",
   "nbconvert_exporter": "python",
   "pygments_lexer": "ipython3",
   "version": "3.7.3"
  }
 },
 "nbformat": 4,
 "nbformat_minor": 2
}
