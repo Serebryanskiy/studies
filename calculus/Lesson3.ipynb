{
 "cells": [
  {
   "cell_type": "markdown",
   "metadata": {},
   "source": [
    "### 1. Предложить пример функции,  не имеющей предела в нуле и в бесконечностях. ###\n",
    "\n",
    "$y=cos(\\frac{1}{x})$"
   ]
  },
  {
   "cell_type": "markdown",
   "metadata": {},
   "source": [
    "### 2. Привести пример функции, не имеющей предела в точке, но определенной в ней. ###\n",
    "\n",
    "$ cos(x) $ при $ x \\to 1$"
   ]
  },
  {
   "cell_type": "markdown",
   "metadata": {},
   "source": [
    "### 3.Исследовать функцию $f(x)=x^{3}-x^{2}$ по плану ###\n",
    "\n",
    "- Область задания: $\\operatorname{dom}(f)=\\mathbb{R}$, Область значения: $\\operatorname{ran}(f)=\\mathbb{R} $\n",
    "\n",
    "- Нули функции: 0 кратности 2 и 1 кратности 1\n",
    "\n",
    "- Отрезки законопостоянства: $(-\\infty;1),(1;+\\infty)$\n",
    "\n",
    "- Интервалы монотонности: $(-\\infty;0),(0,\\frac{2}{3}),(\\frac{2}{3};+\\infty)$\n",
    "\n",
    "- Функция не обладает свойствамии чётности\n",
    "\n",
    "- Неорганичена\n",
    "\n",
    "- Непериодична"
   ]
  },
  {
   "cell_type": "code",
   "execution_count": 16,
   "metadata": {},
   "outputs": [
    {
     "data": {
      "text/plain": [
       "[<matplotlib.lines.Line2D at 0x11a180cf8>]"
      ]
     },
     "execution_count": 16,
     "metadata": {},
     "output_type": "execute_result"
    },
    {
     "data": {
      "image/png": "[encoded data removed]",
      "text/plain": [
       "<Figure size 432x288 with 1 Axes>"
      ]
     },
     "metadata": {
      "needs_background": "light"
     },
     "output_type": "display_data"
    }
   ],
   "source": [
    "import numpy as np\n",
    "import matplotlib.pyplot as plt\n",
    "\n",
    "x = np.linspace(-1,1.5,100)\n",
    "plt.grid()\n",
    "plt.plot(x,x ** 3 - x ** 2)"
   ]
  },
  {
   "cell_type": "markdown",
   "metadata": {},
   "source": []
  },
  {
   "cell_type": "markdown",
   "metadata": {},
   "source": [
    "### Задание 4. Найти предел функции ###\n",
    "$$ \\lim _{x \\rightarrow 0} \\frac{3 x^{3}-2 x^{2}}{4 x^{2}} = \\lim _{x \\rightarrow 0} \\frac{3 x^{3}}{4 x^{2}} - \\lim _{x \\rightarrow 0} \\frac{-2 x^{2}}{4 x^{2}} = \\lim _{x \\rightarrow 0} \\frac{3x}{4} - \\lim _{x \\rightarrow 0} \\frac{-2}{4} = 0 - (-\\frac{1}{2}) = \\frac{1}{2} $$ "
   ]
  },
  {
   "cell_type": "markdown",
   "metadata": {},
   "source": [
    "### Задание 5. Найти пределы функций ###\n",
    "\n"
   ]
  },
  {
   "cell_type": "markdown",
   "metadata": {},
   "source": [
    "1."
   ]
  },
  {
   "cell_type": "markdown",
   "metadata": {},
   "source": [
    "$$ \\lim _{x \\rightarrow 0} \\frac{\\sin (2 x)}{4 x} = \\lim _{x \\rightarrow 0} \\frac{2\\sin (x)\\cos(x)}{4x}= \\lim _{x \\rightarrow 0} \\frac {1}{2} \\frac{\\sin (x)}{x} \\cdot \\lim _{x \\rightarrow 0} \\frac {\\cos(x)}{1} = \\frac{1}{2} \\cdot 1 \\cdot 1 = \\frac{1}{2}$$\n"
   ]
  },
  {
   "cell_type": "markdown",
   "metadata": {},
   "source": [
    "2."
   ]
  },
  {
   "cell_type": "markdown",
   "metadata": {},
   "source": [
    "$$ \\lim _{x \\rightarrow 0} \\frac{x}{\\sin (x)} =  \\lim _{x \\rightarrow 0} \\frac {1} {\\frac{x}{\\sin (x)}} = \\frac {1}{1} = 1$$\n"
   ]
  },
  {
   "cell_type": "markdown",
   "metadata": {},
   "source": [
    "3. "
   ]
  },
  {
   "cell_type": "markdown",
   "metadata": {},
   "source": [
    "$$\\lim _{x \\rightarrow 0} \\frac{x}{\\arcsin (x)} = \\lim _{x \\rightarrow 0} \\frac {1} {\\frac{x}{\\arcsin (x)}}  = \\frac{1}{1} = 1$$"
   ]
  },
  {
   "cell_type": "markdown",
   "metadata": {},
   "source": [
    "4."
   ]
  },
  {
   "cell_type": "markdown",
   "metadata": {},
   "source": [
    "$$\n",
    "\\lim _{x \\rightarrow \\infty}\\left(\\frac{4 x+3}{4 x-3}\\right)^{6 x} = \\lim _{x \\rightarrow \\infty}\\left(\\frac{4 x+3 + 3 - 3}{4 x-3}\\right)^{6 x} = \\lim _{x \\rightarrow \\infty}\\left(1 + \\frac{6}{4 x-3}\\right)^{6 x} = e^6\n",
    "$$"
   ]
  }
 ],
 "metadata": {
  "kernelspec": {
   "display_name": "Python 3",
   "language": "python",
   "name": "python3"
  },
  "language_info": {
   "codemirror_mode": {
    "name": "ipython",
    "version": 3
   },
   "file_extension": ".py",
   "mimetype": "text/x-python",
   "name": "python",
   "nbconvert_exporter": "python",
   "pygments_lexer": "ipython3",
   "version": "3.7.3"
  }
 },
 "nbformat": 4,
 "nbformat_minor": 2
}
