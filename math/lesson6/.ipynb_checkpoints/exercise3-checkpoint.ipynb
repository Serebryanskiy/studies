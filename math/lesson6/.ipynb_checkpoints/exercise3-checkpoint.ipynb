{
 "cells": [
  {
   "cell_type": "code",
   "execution_count": 23,
   "metadata": {},
   "outputs": [
    {
     "name": "stdout",
     "output_type": "stream",
     "text": [
      "{'Ранг матрицы А': 2, 'Ранг матрицы C': 3, 'Кол-во переменных': 3, 'Матрица B': array([[2, 5, 1]])}\n",
      "{'Ранг матрицы А': 2, 'Ранг матрицы C': 2, 'Кол-во переменных': 3, 'Матрица B': array([[2, 5, 8]])}\n"
     ]
    },
    {
     "data": {
      "text/plain": [
       "(array([0.33333333, 0.33333333, 0.33333333]),\n",
       " array([], dtype=float64),\n",
       " 2,\n",
       " array([1.68481034e+01, 1.06836951e+00, 4.41842475e-16]))"
      ]
     },
     "execution_count": 23,
     "metadata": {},
     "output_type": "execute_result"
    }
   ],
   "source": [
    "# 3. Сколько решений имеет линейная система:\n",
    "\n",
    "import numpy as np\n",
    "\n",
    "A = np.array([[1, 2, 3], [4, 5, 6], [7, 8, 9]])\n",
    "B = np.array([[2, 5, 1]])\n",
    "C = np.concatenate(( A,B.T), axis = 1)\n",
    "\n",
    "# Найдём ранг матрицы A и расширенной матрицы C\n",
    "\n",
    "print({\"Ранг матрицы А\": np.linalg.matrix_rank(A,0.0001),\"Ранг матрицы C\":np.linalg.matrix_rank(C,0.0001), \"Кол-во переменных\" : 3,\"Матрица B\":B})\n",
    "\n",
    "# Согласно теореме Кронекера-Капелли, т.к. ранги основной и расширенной матрицы  не равны, то система не имеет решений\n",
    "# Переопределим B, чтобы ранг расширенной матрицы совпадал с рангом основной матрицы, т.е. был равен 2. \n",
    "# Не сложно увидеть, что для того, чтобы появилась линейно зависимая строка в матрице C достаточно поменять последний элемент матрицы B с 1 на 8\n",
    "\n",
    "B = np.array([[2, 5, 8]])\n",
    "C = np.concatenate(( A,B.T), axis = 1)\n",
    "print({\"Ранг матрицы А\": np.linalg.matrix_rank(A,0.0001),\"Ранг матрицы C\":np.linalg.matrix_rank(C,0.0001), \"Кол-во переменных\" : 3,\"Матрица B\":B})\n",
    "\n",
    "# Согласно теореме Кронекера-Капелли, т.к. ранги основной и расширенной матрицы равны, а ранги матриц A и C меньше кол-ва неизвестных, то\n",
    "# система имеет более одного решения,т.е. является неопределённой, найдём одно из решений удовлетворяющее условиям системы уравнений.\n",
    "B = np.array([2, 5, 8])\n",
    "np.linalg.lstsq(A,B,rcond=0)\n"
   ]
  },
  {
   "cell_type": "code",
   "execution_count": null,
   "metadata": {},
   "outputs": [],
   "source": []
  }
 ],
 "metadata": {
  "kernelspec": {
   "display_name": "Python 3.7",
   "language": "python",
   "name": "python3"
  },
  "language_info": {
   "codemirror_mode": {
    "name": "ipython",
    "version": 3
   },
   "file_extension": ".py",
   "mimetype": "text/x-python",
   "name": "python",
   "nbconvert_exporter": "python",
   "pygments_lexer": "ipython3",
   "version": "3.7.2"
  }
 },
 "nbformat": 4,
 "nbformat_minor": 2
}
