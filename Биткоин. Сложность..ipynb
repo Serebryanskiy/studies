{
 "cells": [
  {
   "cell_type": "markdown",
   "metadata": {},
   "source": [
    "**Хэш функции**\n",
    "\n",
    "Всё, что нам достаточно знать о криптографических хэш-функциях - это то, что они необратимы и вероятность получить одинаковый хэш при разных входных данных очень мала. Т.е. загрузив на входе некие данные, на выходе мы получим хэш этих данных по которому мы не можем однозначно восстановить данные которые были на входе. "
   ]
  },
  {
   "cell_type": "code",
   "execution_count": 14,
   "metadata": {},
   "outputs": [
    {
     "name": "stdout",
     "output_type": "stream",
     "text": [
      "E2C9BC2D982599745AE75305C16B1833D1E3DA9EC5F383B8521DB73AEDFC8BB3\n",
      "36B775E1057E035E83140BFDEBD1D2A0D3E0FB0A0BB233C9131D8C5B736CF2D3\n",
      "BBEA70C9600539F1F4A51BBF7C36EAF53EE510161EAF1F139DF353F882BDE72B\n",
      "1F6D8E4079AB2BF04787D8D9119827E5C9FAFCC0A14DB9BCB15861C54805DE51\n",
      "FB009EC0F8830A9E6B3BEDC573E6B22CC3697716831080FFA60A3D7F5467AA00\n"
     ]
    }
   ],
   "source": [
    "import hashlib\n",
    "\n",
    "def sha256(any_string):\n",
    "    to_bytes = bytes(any_string, 'utf-8')\n",
    "    print(hashlib.sha256(to_bytes).hexdigest().upper())\n",
    "\n",
    "sha256('Hello guys!')\n",
    "sha256('I can put here anything!')\n",
    "sha256('Самое главное, что чего бы я не ввёл на входе, на выходе я получу строку длиной строго 64 символа')\n",
    "sha256('Ввиду конфигурации конкретно алгоритма sha-256 символы будут получатся в диапазоне 0-9 A-F')\n",
    "sha256('Что очень удобно т.к. такую строку можно интерпретировать как число в шестнадцатеричной системе счисления (hex)')\n"
   ]
  },
  {
   "cell_type": "markdown",
   "metadata": {},
   "source": [
    "Криптографические хэш-функции устроены таким образом, что например по хэшу E2C9BC2D982599745AE75305C16B1833D1E3DA9EC5F383B8521DB73AEDFC8BB3 мы никак не можем понять, что на входе была строка 'Hello guys!'\n",
    "Но прогнав через хэш функцию 'Hello guys' ещё раз, мы однозначно получим тот же самый хэш"
   ]
  },
  {
   "cell_type": "code",
   "execution_count": 15,
   "metadata": {},
   "outputs": [
    {
     "name": "stdout",
     "output_type": "stream",
     "text": [
      "E2C9BC2D982599745AE75305C16B1833D1E3DA9EC5F383B8521DB73AEDFC8BB3\n"
     ]
    }
   ],
   "source": [
    "sha256('Hello guys!')"
   ]
  },
  {
   "cell_type": "markdown",
   "metadata": {},
   "source": [
    "Применение хэш функций многообразно, но одинм из самых простых примеров будет схема авторизации клиент-сервер по хэш функции. Предположим мы создали аккаунт с следующими данными login: silver166, password: mysuperpassword . Если сервер будет хранить ваши данные логина и пароля таким образом, то однажды, когда он будет взломан данные всех пользователей попадут в руки злоумышленников. Поэтому давайте просто посчитаем хэш вашей пары логин и пароль и будем хранить на сервере только данные в виде хэша."
   ]
  },
  {
   "cell_type": "code",
   "execution_count": 17,
   "metadata": {},
   "outputs": [
    {
     "name": "stdout",
     "output_type": "stream",
     "text": [
      "2989571D5A5A66ACBD9A5D9B8A73229660FE6664E69FA47EE2E716389EFCC1D7\n",
      "34C8479C348B6461194E261E86863B601456A22F20EF5CC50CC9B2B60A83848D\n"
     ]
    }
   ],
   "source": [
    "sha256('silver166mysuperpassword')\n",
    "sha256('silver166mysuperpassword1')"
   ]
  },
  {
   "cell_type": "markdown",
   "metadata": {},
   "source": [
    "Таким образом, каждый раз вводя на сервере логин и пароль, сервер будет расчитывать хэш введённой комбинации и сравнивать его с сохранённым в базе данных. Заметьте, что при ошибке в пароле даже на один символ, хэш получается совершенно другой."
   ]
  },
  {
   "cell_type": "markdown",
   "metadata": {},
   "source": [
    "**Blockhain. Что за зверь**\n",
    "По сути технология blockchain это технология распределённых баз данных, которые защищены от внесения изменений задним числом. Несмотря на то, что криптовалюты тесно связаны с технологией блокчейна, в настоящее время блокчейн применяется и без связки с криптовалютами. Так в 2018 году через блокчейн была реализована закупка по фарм контракткам в Нижегородской области, в результате чего было сэкономленно порядка 50 млн. рублей. В Грузии реализовали на государственном уровне учёт кадастровых изменений с помощью блокчейн.\n",
    "\n"
   ]
  },
  {
   "cell_type": "markdown",
   "metadata": {},
   "source": [
    "**Расчёт сложности, скорость сети**\n",
    "\n",
    "Так как в результате хэширования мы получаем строчку из 64 символов, каждый из которых может принимать 16 значений, то элементарным исходом будем считать одну из строчек. В комбинаторике это соответсвует выбору с учётом порядка и с возвращением. Таким образом мы имеем $16 ^ {64} = (2^4) ^ {64} = 2^{256} $ возможных вариантов. Это же число соответсвует максимально возможному числу, которое может выпасть, оно будет соответсвовать хэшу FFFFFFFFFFFFFFFFFFFFFFFFFFFFFFFFFFFFFFFFFFFFFFFFFFFFFFFFFFFFFFFF. \n",
    "\n",
    "\n",
    "Теперь вернёмся к хэшам, которые мы получали ранее, как уже было сказано т.к. они состоят из 0-9 и A-F, то их можно перевести в десятичную систему счисления. Переведём в десятичную систему хэш полученный из строки 'Hello guys!'"
   ]
  },
  {
   "cell_type": "code",
   "execution_count": 19,
   "metadata": {},
   "outputs": [
    {
     "name": "stdout",
     "output_type": "stream",
     "text": [
      "102579138797372391513057768004706660395014723771608852684090041015922677550003\n",
      "115792089237316195423570985008687907853269984665640564039457584007913129639935\n"
     ]
    }
   ],
   "source": [
    "# sha256('Hello guys!') -> E2C9BC2D982599745AE75305C16B1833D1E3DA9EC5F383B8521DB73AEDFC8BB3\n",
    "print(int(0xE2C9BC2D982599745AE75305C16B1833D1E3DA9EC5F383B8521DB73AEDFC8BB3))\n",
    "print(int(0xFFFFFFFFFFFFFFFFFFFFFFFFFFFFFFFFFFFFFFFFFFFFFFFFFFFFFFFFFFFFFFFF))\n",
    "      "
   ]
  },
  {
   "cell_type": "markdown",
   "metadata": {},
   "source": [
    "Первое число, которое мы получили,это выражение хэша в десятичной системе счисления, второе число - это максимальное число, которое можно получить хэшированием sha256. Таким образом, если ваш компьютер считает со скоростью 1 хэш в секунду, то вероятность получить конкректный хэш будет равняться 1/115792089237316195423570985008687907853269984665640564039457584007913129639935\n",
    "В общем-то достаточно маленькое число.\n",
    "Чтобы как-то сделать нахождение блока более вероятным, было решено выбрать некое число, любое число меньше которого будет засчитаваться, как допустимое, для поиска конкретного блока. Таким числом было решено выбрать число 0x00000000FFFFFFFFFFFFFFFFFFFFFFFFFFFFFFFFFFFFFFFFFFFFFFFFFFFFFFFF"
   ]
  },
  {
   "cell_type": "code",
   "execution_count": 22,
   "metadata": {},
   "outputs": [
    {
     "name": "stdout",
     "output_type": "stream",
     "text": [
      "26959946667150639794667015087019630673637144422540572481103610249215\n"
     ]
    }
   ],
   "source": [
    "print(int(0x00000000FFFFFFFFFFFFFFFFFFFFFFFFFFFFFFFFFFFFFFFFFFFFFFFFFFFFFFFF))\n"
   ]
  },
  {
   "cell_type": "markdown",
   "metadata": {},
   "source": [
    "Это число удобно записывать в виде степеней двойки. $0x00000000FFFFFFFFFFFFFFFFFFFFFFFFFFFFFFFFFFFFFFFFFFFFFFFFFFFFFFFF = 16^{56} = 2^{4*56} = 2^{224}$ Это число назвали target_1, т.е. target при сложности 1. \n",
    "Таким образом, вероятность выкинуть число меньшее target_1 из общего числа вариантов равна $$P(\\{(строка\\ -> sha256\\ -> hash) < target_1\\})=\\frac {2^{224}}{2^{256}}=\\frac1{2^{32}}$$\n",
    "Таким образом, если ваш компьютер вычисляет даже $1000000\\ хэшей\\ в\\ секунду = 1 Mh s$ то, чтобы гарантированно найти блок вам потребуется $$\\frac{2^{32}}{1000000} = 4295 \\ секунд$$ \n",
    "\n",
    "Далее, т.к. количество хэшей, которое есть в сети - это величина не постоянная, то придумали механизм сложности, который должен увеличиваться по мере увеличения общей скорости сети. Идея в том, чтобы уменьшать число target_1 делая нахождение блока всё менее и менее вероятным.\n",
    "\n",
    "Сложность есть ничто иное, как число показывающее во сколько раз текущий target меньше target_1.\n",
    "$$Сложность = \\frac{target_1}{target_{тек}}=\\frac{2^{224}}{target_{тек}}$$\n",
    "Таким образом при текущей сложности равной $6\\ 068\\ 891\\ 541\\ 676$, число меньше которого нужно выкинуть хэш равно \n"
   ]
  },
  {
   "cell_type": "code",
   "execution_count": 24,
   "metadata": {},
   "outputs": [
    {
     "data": {
      "text/plain": [
       "4442318087580341436910451790969287217101072045585727488"
      ]
     },
     "execution_count": 24,
     "metadata": {},
     "output_type": "execute_result"
    }
   ],
   "source": [
    "int(26959946667150639794667015087019630673637144422540572481103610249215/6068891541676)"
   ]
  },
  {
   "cell_type": "markdown",
   "metadata": {},
   "source": [
    "$Сложность * 2^{32}$ = сколько хэшей потребуется перебрать для гарантированного поиска блока"
   ]
  },
  {
   "cell_type": "markdown",
   "metadata": {},
   "source": [
    "$$Difficulty = \\frac{target_1}{target_{current}}=\\frac{2^{224}}{target_{current}} => Difficulty \\cdot 2^{32} = \\frac{2^{256}}{target_{current}}= \\frac1{P(\\{find\\ a\\ block\\})}$$\n",
    "\n",
    "This value of $\\frac{1}{Probabilty\\ of\\ finding\\ a\\ block}$ is used to calculate estimated coin rewards and btc rewards and it is correct. But when you calculate Difficulty_avg24h or Difficulty_avg15m you just get the average:  $$Difficulty_{avg24h} = \\frac{\\sum_1^n\\frac{2^{224}}{target_{i}}}n$$\n",
    "Afterwards, when you try to get Probabilty of finding the block you would use $$Difficulty_{avg24h} \\cdot 2^{32} = \\frac{2^{32} \\cdot \\sum_1^n\\frac{2^{224}}{target_{i}}}n = \\frac{\\sum_1^n{\\frac1{P(\\{find\\ a\\ block\\})}}}n$$\n",
    "\n",
    "So this way you would get an average of 1/P values which is incorrect. To do this in correct way you need to sum 1/Diff values (P values), get average, and then reverse it again to 1/P."
   ]
  },
  {
   "cell_type": "code",
   "execution_count": 47,
   "metadata": {},
   "outputs": [
    {
     "name": "stdout",
     "output_type": "stream",
     "text": [
      "57\n",
      "00111001\n",
      "b'\\x96~\\x9a\\x17T&\\xad%\\xc0\\xe1w\\xeb4\\xb4Y\\xb2\\x86\\x9dR\\x02&G\\xa1`\\xd3\\xcc\\x02\\x9d'\n",
      "15848924758734730259406216858196852491811623905935496504996522623645\n",
      "15848924758734730259406216858196852491811623905935496504996522623645\n",
      "967e9a175426ad25c0e177eb34b459b2869d52022647a160d3cc029d\n",
      "0011100100110110001101110110010100111001011000010011000100110111001101010011010000110010001101100110000101100100001100100011010101100011001100000110010100110001001101110011011101100101011000100011001100110100011000100011010000110101001110010110001000110010001110000011011000111001011001000011010100110010001100000011001000110010001101100011010000110111011000010011000100110110001100000110010000110011011000110110001100110000001100100011100101100100\n"
     ]
    }
   ],
   "source": [
    "def bin_convert(string):\n",
    "    return ''.join(format(ord(x), '8b').replace(' ', '0') for x in string)\n",
    "\n",
    "thestring = 'Whatever'\n",
    "print(ord('9'))\n",
    "print(format(ord('9'),'8b').replace(' ', '0'))\n",
    "hash = hashlib.sha224((thestring).encode(\"utf-8\")).digest()\n",
    "print(hash)\n",
    "hash = int.from_bytes(hash, 'big')\n",
    "thehash = hashlib.sha224((thestring).encode(\"utf-8\")).hexdigest()\n",
    "print(int(thehash,16))\n",
    "print(hash)\n",
    "print(thehash)\n",
    "mining_hash = bin_convert(thehash)\n",
    "print(mining_hash)\n",
    "# diff_drop_time = Decimal(180)\n",
    "#     mining_condition = bin_convert(db_block_hash)[0:int(diff0)]\n",
    "#     # simplified comparison, no backwards mining\n",
    "#     if mining_condition in mining_hash:\n",
    "#         if app_log:\n",
    "#             app_log.info(\"Difficulty requirement satisfied for block {} from {}\".format (block_height_new, peer_ip))\n",
    "# diff_save = diff0\n",
    "\n"
   ]
  },
  {
   "cell_type": "code",
   "execution_count": null,
   "metadata": {},
   "outputs": [],
   "source": []
  },
  {
   "cell_type": "code",
   "execution_count": 105,
   "metadata": {},
   "outputs": [
    {
     "name": "stdout",
     "output_type": "stream",
     "text": [
      "9\n",
      "exp prob 0.21484375\n",
      "for diff 8 : 0.97338, expected: 3.5,error: 3.5957180135198996 \n",
      "for diff 16 : 0.19639, expected: 0.21484375,error: 1.0939648149091095 \n",
      "for diff 24 : 0.01265, expected: 0.01318359375,error: 1.0421813241106719 \n",
      "for diff 32 : 0.00083, expected: 0.0008087158203125,error: 0.9743564100150602 \n"
     ]
    }
   ],
   "source": [
    "import random\n",
    "import numpy as np\n",
    "from math import factorial\n",
    "\n",
    "\n",
    "hex_dict = {\n",
    "    '0': '00110000',\n",
    "    '1': '00110001',\n",
    "    '2': '00110010',\n",
    "    '3': '00110011',\n",
    "    '4': '00110100',\n",
    "    '5': '00110101',\n",
    "    '6': '00110110',\n",
    "    '7': '00110111',\n",
    "    '8': '00111000',\n",
    "    '9': '00111001',\n",
    "    'a': '01101010',\n",
    "    'b': '01101011',\n",
    "    'c': '01101100',\n",
    "    'd': '01101101',\n",
    "    'e': '01101110',\n",
    "    'f': '01101111',\n",
    "}\n",
    "\n",
    "\n",
    "def combinations(k, n):\n",
    "    return int(factorial(n) / (factorial(k) * factorial(n - k)))\n",
    "\n",
    "def bin_convert(string):\n",
    "    return ''.join(format(ord(x), '8b').replace(' ', '0') for x in string)\n",
    "\n",
    "# 1/16*1/16 * (N-k+1)\n",
    "\n",
    "'033945947'\n",
    "'003030303'\n",
    "\n",
    "15/16*15/16\n",
    "\n",
    "print(combinations(1,9))\n",
    "diff_list = [8,16,24,32]\n",
    "N=56\n",
    "thehash = '033945947123ee5c7987de27c3b848876a28d53709f951bd01f3785e'\n",
    "#expected_prob8=1 - (15/16) ** 56\n",
    "k=2\n",
    "\n",
    "\n",
    "print(f'exp prob {expected_prob16}')\n",
    "for diff in diff_list:\n",
    "    k=diff // 8\n",
    "    mining_condition=thehash[0:diff // 8]\n",
    "    n=100000\n",
    "    count=0\n",
    "    for _ in range(0,n):\n",
    "        sha_array = np.random.randint(0, 16, 56)\n",
    "        bin_string=''.join([hex(element)[2:] for element in sha_array])\n",
    "        if mining_condition in bin_string:\n",
    "            count+=1\n",
    "    print(f'for diff {diff} : {count/n}, expected: {(N-k+1) * 16**(N-k)/16**N},'\n",
    "          f'error: {(N-k+1) * 16**(N-k)/16**N / (count/n)} ')\n",
    "\n",
    "\n",
    "def another_one():    \n",
    "    count = 0\n",
    "    sha_array = np.random.randint(0, 16, 56)\n",
    "    bin_string=''.join([hex_dict[hex(element)[2:]] for element in sha_array])\n",
    "    #if mining_condition in \n",
    "    print(bin_string)\n"
   ]
  },
  {
   "cell_type": "code",
   "execution_count": null,
   "metadata": {},
   "outputs": [],
   "source": []
  },
  {
   "cell_type": "code",
   "execution_count": null,
   "metadata": {},
   "outputs": [],
   "source": []
  }
 ],
 "metadata": {
  "kernelspec": {
   "display_name": "Python 3.7",
   "language": "python",
   "name": "python3"
  },
  "language_info": {
   "codemirror_mode": {
    "name": "ipython",
    "version": 3
   },
   "file_extension": ".py",
   "mimetype": "text/x-python",
   "name": "python",
   "nbconvert_exporter": "python",
   "pygments_lexer": "ipython3",
   "version": "3.7.2"
  }
 },
 "nbformat": 4,
 "nbformat_minor": 2
}
