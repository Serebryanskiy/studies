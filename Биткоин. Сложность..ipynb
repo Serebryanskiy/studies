{
 "cells": [
  {
   "cell_type": "markdown",
   "metadata": {},
   "source": [
    "**Хэш функции**\n",
    "\n",
    "Всё, что нам достаточно знать о криптографических хэш-функциях - это то, что они необратимы и вероятность получить одинаковый хэш при разных входных данных очень мала. Т.е. загрузив на входе некие данные, на выходе мы получим хэш этих данных по которому мы не можем однозначно восстановить данные которые были на входе. "
   ]
  },
  {
   "cell_type": "code",
   "execution_count": 14,
   "metadata": {},
   "outputs": [
    {
     "name": "stdout",
     "output_type": "stream",
     "text": [
      "E2C9BC2D982599745AE75305C16B1833D1E3DA9EC5F383B8521DB73AEDFC8BB3\n",
      "36B775E1057E035E83140BFDEBD1D2A0D3E0FB0A0BB233C9131D8C5B736CF2D3\n",
      "BBEA70C9600539F1F4A51BBF7C36EAF53EE510161EAF1F139DF353F882BDE72B\n",
      "1F6D8E4079AB2BF04787D8D9119827E5C9FAFCC0A14DB9BCB15861C54805DE51\n",
      "FB009EC0F8830A9E6B3BEDC573E6B22CC3697716831080FFA60A3D7F5467AA00\n"
     ]
    }
   ],
   "source": [
    "import hashlib\n",
    "\n",
    "def sha256(any_string):\n",
    "    to_bytes = bytes(any_string, 'utf-8')\n",
    "    print(hashlib.sha256(to_bytes).hexdigest().upper())\n",
    "\n",
    "sha256('Hello guys!')\n",
    "sha256('I can put here anything!')\n",
    "sha256('Самое главное, что чего бы я не ввёл на входе, на выходе я получу строку длиной строго 64 символа')\n",
    "sha256('Ввиду конфигурации конкретно алгоритма sha-256 символы будут получатся в диапазоне 0-9 A-F')\n",
    "sha256('Что очень удобно т.к. такую строку можно интерпретировать как число в шестнадцатеричной системе счисления (hex)')\n"
   ]
  },
  {
   "cell_type": "markdown",
   "metadata": {},
   "source": [
    "Криптографические хэш-функции устроены таким образом, что например по хэшу E2C9BC2D982599745AE75305C16B1833D1E3DA9EC5F383B8521DB73AEDFC8BB3 мы никак не можем понять, что на входе была строка 'Hello guys!'\n",
    "Но прогнав через хэш функцию 'Hello guys' ещё раз, мы однозначно получим тот же самый хэш"
   ]
  },
  {
   "cell_type": "code",
   "execution_count": 15,
   "metadata": {},
   "outputs": [
    {
     "name": "stdout",
     "output_type": "stream",
     "text": [
      "E2C9BC2D982599745AE75305C16B1833D1E3DA9EC5F383B8521DB73AEDFC8BB3\n"
     ]
    }
   ],
   "source": [
    "sha256('Hello guys!')"
   ]
  },
  {
   "cell_type": "markdown",
   "metadata": {},
   "source": [
    "Применение хэш функций многообразно, но одинм из самых простых примеров будет схема авторизации клиент-сервер по хэш функции. Предположим мы создали аккаунт с следующими данными login: silver166, password: mysuperpassword . Если сервер будет хранить ваши данные логина и пароля таким образом, то однажды, когда он будет взломан данные всех пользователей попадут в руки злоумышленников. Поэтому давайте просто посчитаем хэш вашей пары логин и пароль и будем хранить на сервере только данные в виде хэша."
   ]
  },
  {
   "cell_type": "code",
   "execution_count": 17,
   "metadata": {},
   "outputs": [
    {
     "name": "stdout",
     "output_type": "stream",
     "text": [
      "2989571D5A5A66ACBD9A5D9B8A73229660FE6664E69FA47EE2E716389EFCC1D7\n",
      "34C8479C348B6461194E261E86863B601456A22F20EF5CC50CC9B2B60A83848D\n"
     ]
    }
   ],
   "source": [
    "sha256('silver166mysuperpassword')\n",
    "sha256('silver166mysuperpassword1')"
   ]
  },
  {
   "cell_type": "markdown",
   "metadata": {},
   "source": [
    "Таким образом, каждый раз вводя на сервере логин и пароль, сервер будет расчитывать хэш введённой комбинации и сравнивать его с сохранённым в базе данных. Заметьте, что при ошибке в пароле даже на один символ, хэш получается совершенно другой."
   ]
  },
  {
   "cell_type": "markdown",
   "metadata": {},
   "source": [
    "**Blockhain. Что за зверь**\n",
    "По сути технология blockchain это технология распределённых баз данных, которые защищены от внесения изменений задним числом. Несмотря на то, что криптовалюты тесно связаны с технологией блокчейна, в настоящее время блокчейн применяется и без связки с криптовалютами. Так в 2018 году через блокчейн была реализована закупка по фарм контракткам в Нижегородской области, в результате чего было сэкономленно порядка 50 млн. рублей. В Грузии реализовали на государственном уровне учёт кадастровых изменений с помощью блокчейн.\n",
    "\n"
   ]
  },
  {
   "cell_type": "markdown",
   "metadata": {},
   "source": [
    "**Расчёт сложности, скорость сети**\n",
    "\n",
    "Так как в результате хэширования мы получаем строчку из 64 символов, каждый из которых может принимать 16 значений, то элементарным исходом будем считать одну из строчек. В комбинаторике это соответсвует выбору с учётом порядка и с возвращением. Таким образом мы имеем $16 ^ {64} = (2^4) ^ {64} = 2^{256} $ возможных вариантов. Это же число соответсвует максимально возможному числу, которое может выпасть, оно будет соответсвовать хэшу FFFFFFFFFFFFFFFFFFFFFFFFFFFFFFFFFFFFFFFFFFFFFFFFFFFFFFFFFFFFFFFF. \n",
    "\n",
    "\n",
    "Теперь вернёмся к хэшам, которые мы получали ранее, как уже было сказано т.к. они состоят из 0-9 и A-F, то их можно перевести в десятичную систему счисления. Переведём в десятичную систему хэш полученный из строки 'Hello guys!'"
   ]
  },
  {
   "cell_type": "code",
   "execution_count": 19,
   "metadata": {},
   "outputs": [
    {
     "name": "stdout",
     "output_type": "stream",
     "text": [
      "102579138797372391513057768004706660395014723771608852684090041015922677550003\n",
      "115792089237316195423570985008687907853269984665640564039457584007913129639935\n"
     ]
    }
   ],
   "source": [
    "# sha256('Hello guys!') -> E2C9BC2D982599745AE75305C16B1833D1E3DA9EC5F383B8521DB73AEDFC8BB3\n",
    "print(int(0xE2C9BC2D982599745AE75305C16B1833D1E3DA9EC5F383B8521DB73AEDFC8BB3))\n",
    "print(int(0xFFFFFFFFFFFFFFFFFFFFFFFFFFFFFFFFFFFFFFFFFFFFFFFFFFFFFFFFFFFFFFFF))\n",
    "      "
   ]
  },
  {
   "cell_type": "markdown",
   "metadata": {},
   "source": [
    "Первое число, которое мы получили,это выражение хэша в десятичной системе счисления, второе число - это максимальное число, которое можно получить хэшированием sha256. Таким образом, если ваш компьютер считает со скоростью 1 хэш в секунду, то вероятность получить конкректный хэш будет равняться 1/115792089237316195423570985008687907853269984665640564039457584007913129639935\n",
    "В общем-то достаточно маленькое число.\n",
    "Чтобы как-то сделать нахождение блока более вероятным, было решено выбрать некое число, любое число меньше которого будет засчитаваться, как допустимое, для поиска конкретного блока. Таким числом было решено выбрать число 0x00000000FFFFFFFFFFFFFFFFFFFFFFFFFFFFFFFFFFFFFFFFFFFFFFFFFFFFFFFF"
   ]
  },
  {
   "cell_type": "code",
   "execution_count": 22,
   "metadata": {},
   "outputs": [
    {
     "name": "stdout",
     "output_type": "stream",
     "text": [
      "26959946667150639794667015087019630673637144422540572481103610249215\n"
     ]
    }
   ],
   "source": [
    "print(int(0x00000000FFFFFFFFFFFFFFFFFFFFFFFFFFFFFFFFFFFFFFFFFFFFFFFFFFFFFFFF))\n"
   ]
  },
  {
   "cell_type": "markdown",
   "metadata": {},
   "source": [
    "Это число удобно записывать в виде степеней двойки. $0x00000000FFFFFFFFFFFFFFFFFFFFFFFFFFFFFFFFFFFFFFFFFFFFFFFFFFFFFFFF = 16^{56} = 2^{4*56} = 2^{224}$ Это число назвали target_1, т.е. target при сложности 1. \n",
    "Таким образом, вероятность выкинуть число меньшее target_1 из общего числа вариантов равна $$P(\\{(строка\\ -> sha256\\ -> hash) < target_1\\})=\\frac {2^{224}}{2^{256}}=\\frac1{2^{32}}$$\n",
    "Таким образом, если ваш компьютер вычисляет даже $1000000\\ хэшей\\ в\\ секунду = 1 Mh s$ то, чтобы гарантированно найти блок вам потребуется $$\\frac{2^{32}}{1000000} = 4295 \\ секунд$$ \n",
    "\n",
    "Далее, т.к. количество хэшей, которое есть в сети - это величина не постоянная, то придумали механизм сложности, который должен увеличиваться по мере увеличения общей скорости сети. Идея в том, чтобы уменьшать число target_1 делая нахождение блока всё менее и менее вероятным.\n",
    "\n",
    "Сложность есть ничто иное, как число показывающее во сколько раз текущий target меньше target_1.\n",
    "$$Сложность = \\frac{target_1}{target_{тек}}=\\frac{2^{224}}{target_{тек}}$$\n",
    "Таким образом при текущей сложности равной $6\\ 068\\ 891\\ 541\\ 676$, число меньше которого нужно выкинуть хэш равно \n"
   ]
  },
  {
   "cell_type": "code",
   "execution_count": 24,
   "metadata": {},
   "outputs": [
    {
     "data": {
      "text/plain": [
       "4442318087580341436910451790969287217101072045585727488"
      ]
     },
     "execution_count": 24,
     "metadata": {},
     "output_type": "execute_result"
    }
   ],
   "source": [
    "int(26959946667150639794667015087019630673637144422540572481103610249215/6068891541676)"
   ]
  },
  {
   "cell_type": "markdown",
   "metadata": {},
   "source": [
    "$Сложность * 2^{32}$ = сколько хэшей потребуется перебрать для гарантированного поиска блока"
   ]
  },
  {
   "cell_type": "markdown",
   "metadata": {},
   "source": [
    "$$Difficulty = \\frac{target_1}{target_{current}}=\\frac{2^{224}}{target_{current}} => Difficulty \\cdot 2^{32} = \\frac{2^{256}}{target_{current}}= \\frac1{P(\\{find\\ a\\ block\\})}$$\n",
    "\n",
    "This value of $\\frac{1}{Probabilty\\ of\\ finding\\ a\\ block}$ is used to calculate estimated coin rewards and btc rewards and it is correct. But when you calculate Difficulty_avg24h or Difficulty_avg15m you just get the average:  $$Difficulty_{avg24h} = \\frac{\\sum_1^n\\frac{2^{224}}{target_{i}}}n$$\n",
    "Afterwards, when you try to get Probabilty of finding the block you would use $$Difficulty_{avg24h} \\cdot 2^{32} = \\frac{2^{32} \\cdot \\sum_1^n\\frac{2^{224}}{target_{i}}}n = \\frac{\\sum_1^n{\\frac1{P(\\{find\\ a\\ block\\})}}}n$$\n",
    "\n",
    "So this way you would get an average of 1/P values which is incorrect. To do this in correct way you need to sum 1/Diff values (P values), get average, and then reverse it again to 1/P."
   ]
  },
  {
   "cell_type": "code",
   "execution_count": 37,
   "metadata": {},
   "outputs": [
    {
     "name": "stdout",
     "output_type": "stream",
     "text": [
      "[1.93860e-01 1.91458e-01 1.23785e-01 1.23297e-01 1.24158e-01 1.00450e-01\n",
      " 5.14870e-02 2.63870e-02 1.31720e-02 1.29100e-02 8.00100e-03 7.88400e-03\n",
      " 7.94400e-03 1.60900e-03 1.61900e-03 1.64100e-03 8.08430e-04 7.90325e-04\n",
      " 4.95300e-04 4.98050e-04 5.00950e-04 3.96700e-04 2.00775e-04 9.87250e-05\n",
      " 4.79000e-05 4.98250e-05 3.12500e-05 3.07500e-05 3.04250e-05 2.56000e-05\n",
      " 1.20250e-05 5.80000e-06 3.03983e-06]\n"
     ]
    },
    {
     "data": {
      "text/plain": [
       "[<matplotlib.lines.Line2D at 0x114605b38>]"
      ]
     },
     "execution_count": 37,
     "metadata": {},
     "output_type": "execute_result"
    },
    {
     "data": {
      "image/png": "[encoded data removed]",
      "text/plain": [
       "<Figure size 432x288 with 1 Axes>"
      ]
     },
     "metadata": {
      "needs_background": "light"
     },
     "output_type": "display_data"
    },
    {
     "data": {
      "image/png": "[encoded data removed]",
      "text/plain": [
       "<Figure size 432x288 with 1 Axes>"
      ]
     },
     "metadata": {
      "needs_background": "light"
     },
     "output_type": "display_data"
    },
    {
     "data": {
      "image/png": "[encoded data removed]",
      "text/plain": [
       "<Figure size 432x288 with 1 Axes>"
      ]
     },
     "metadata": {
      "needs_background": "light"
     },
     "output_type": "display_data"
    }
   ],
   "source": [
    "%matplotlib inline\n",
    "import numpy as np\n",
    "import matplotlib.pyplot as plt\n",
    "\n",
    "sample = {8: 0.995584, 9: 0.971275, 10: 0.882199, 11: 0.882404, 12: 0.882586, 13: 0.81644, 14: 0.56212, 15: 0.352757, 16: 0.19386, 17: 0.191458, 18: 0.123785, 19: 0.123297, 20: 0.124158, 21: 0.10045, 22: 0.051487, 23: 0.026387, 24: 0.013172, 25: 0.01291, 26: 0.008001, 27: 0.007884, 28: 0.007944, 29: 0.001609, 30: 0.001619, 31: 0.001641, 32: 0.000808430, 33: 0.000790325, 34: 0.0004953, 35: 0.00049805, 36: 0.00050095, 37: 0.0003967, 38: 0.000200775 , 39: 9.8725e-05, 40: 4.79e-05, 41: 4.9825e-05, 42: 3.125e-05, 43: 3.075e-05 , 44 : 3.0425e-05, 45: 2.56e-05, 46: 1.2025e-05, 47:5.8e-06 , 48: 3.03983e-06} # 48 3.1e-06\n",
    "\n",
    "# 16 : 0.1943437\n",
    "# for diff 33 : 0.000790325\n",
    "# for diff 34 : 0.0004953\n",
    "# for diff 35 : 0.00049805\n",
    "# for diff 36 : 0.00050095\n",
    "# for diff 37 : 0.0003967\n",
    "# for diff 38 : 0.000200775\n",
    "# for diff 39 : 9.8725e-05\n",
    "# for diff 40 : 4.79e-05 4.959e-05\n",
    "# for diff 41 : 4.9825e-05\n",
    "# for diff 42 : 3.125e-05\n",
    "# for diff 43 : 3.075e-05\n",
    "# for diff 44 : 3.0425e-05\n",
    "# for diff 45 : 2.56e-05\n",
    "# for diff 46 : 1.2025e-05\n",
    "# hash_sample = {key: round(1/value,5) for (key,value) in sample.items()}\n",
    "# hash_array= np.array([round(1/sample[key],5) for key in sample]).reshape(-1,8)\n",
    "sample_array= [sample[key] for key in sample if key > 15]\n",
    "sample_array = np.array(sample_array)#.extend([0,0,0,0,0,0,0]))\n",
    "print(sample_array)\n",
    "# hash_sample = \n",
    "diff = np.array([i for i in sample if i > 15])\n",
    "prob = np.array([sample[i] for i in sample if i > 15])\n",
    "plt.figure()\n",
    "plt.plot(range(16,25),prob[0:9])\n",
    "plt.figure()\n",
    "plt.plot(range(24,33),prob[9:18])\n",
    "plt.figure()\n",
    "plt.plot(range(32,41),prob[18:27])\n",
    "# plt.figure()\n",
    "# plt.plot(range(40,49),prob[27:36])\n",
    "\n"
   ]
  },
  {
   "cell_type": "code",
   "execution_count": 9,
   "metadata": {},
   "outputs": [
    {
     "name": "stdout",
     "output_type": "stream",
     "text": [
      "Not occurs = 26959864713409515830604903059825224792998242912355620692606754736384\n",
      "Total_combitations = 26959946667150639794667015087019630673637144422540572481103610249216\n",
      "Occurce once = 81953741123964062112027194405880638901510184951788496855512832\n",
      "Probability 3.0398332064885217e-06, Hashes: 328965\n"
     ]
    }
   ],
   "source": [
    "n=56\n",
    "k=6\n",
    "\n",
    "def P(n,k):\n",
    "    if n < 0:\n",
    "        return 0\n",
    "    elif n == 0:\n",
    "        return 1\n",
    "    elif n % 100 == 0:\n",
    "        print(n)\n",
    "    return P(n-1,k)*16 - P(n-k,k)\n",
    "\n",
    "not_occurs = P(n,k)\n",
    "total_combinations = 16 ** n\n",
    "occurs_at_least_once = total_combinations - not_occurs\n",
    "probabilty = occurs_at_least_once / total_combinations\n",
    "hashes_to_find_a_block = int(total_combinations/occurs_at_least_once)\n",
    "print(f'Not occurs = {not_occurs}')\n",
    "print(f'Total_combitations = {total_combinations}')\n",
    "print(f'Occurce once = {occurs_at_least_once}')\n",
    "print(f'Probability {probabilty}, Hashes: {hashes_to_find_a_block}')"
   ]
  },
  {
   "cell_type": "code",
   "execution_count": 40,
   "metadata": {},
   "outputs": [
    {
     "name": "stdout",
     "output_type": "stream",
     "text": [
      "Not occurs = 21720449010151817264188181461499755317563858326661283836077185657345\n",
      "Total_combitations = 26959946667150639794667015087019630673637144422540572481103610249216\n",
      "Occurce once = 5239497656998822530478833625519875356073286095879288645026424591871\n",
      "Probability 0.19434376935852365, Hashes: 5\n"
     ]
    }
   ],
   "source": [
    "n=56\n",
    "k=2\n",
    "\n",
    "def probability(n,k):\n",
    "    p_dict = {}\n",
    "    \n",
    "    def _p(n,k):\n",
    "        if n in p_dict:\n",
    "            return p_dict[n]\n",
    "        if n < 0:\n",
    "            return 0\n",
    "        elif n == 0:\n",
    "            return 1\n",
    "        p_dict[n] = _p(n-1,k)*16 - _p(n-k,k)\n",
    "        return p_dict[n]\n",
    "    return _p(n,k)\n",
    "\n",
    "def P(n,k):\n",
    "    if n < 0:\n",
    "        return 0\n",
    "    elif n == 0:\n",
    "        return 1\n",
    "    \n",
    "    return P(n-1,k)*16 - P(n-k,k)\n",
    "\n",
    "not_occurs = probability(n,k)\n",
    "total_combinations = 16 ** n\n",
    "occurs_at_least_once = total_combinations - not_occurs\n",
    "probabilty = occurs_at_least_once / total_combinations\n",
    "hashes_to_find_a_block = int(total_combinations/occurs_at_least_once)\n",
    "print(f'Not occurs = {not_occurs}')\n",
    "print(f'Total_combitations = {total_combinations}')\n",
    "print(f'Occurce once = {occurs_at_least_once}')\n",
    "print(f'Probability {probabilty}, Hashes: {hashes_to_find_a_block}')"
   ]
  },
  {
   "cell_type": "code",
   "execution_count": null,
   "metadata": {},
   "outputs": [],
   "source": []
  }
 ],
 "metadata": {
  "kernelspec": {
   "display_name": "Python 3",
   "language": "python",
   "name": "python3"
  },
  "language_info": {
   "codemirror_mode": {
    "name": "ipython",
    "version": 3
   },
   "file_extension": ".py",
   "mimetype": "text/x-python",
   "name": "python",
   "nbconvert_exporter": "python",
   "pygments_lexer": "ipython3",
   "version": "3.7.3"
  }
 },
 "nbformat": 4,
 "nbformat_minor": 2
}
