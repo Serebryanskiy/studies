{
 "cells": [
  {
   "cell_type": "markdown",
   "metadata": {},
   "source": [
    "### 1. Даны значения величины заработной платы заемщиков банка (zp) и значения их поведенческого кредитного скоринга (ks): zp = [35, 45, 190, 200, 40, 70, 54, 150, 120, 110], ks = [401, 574, 874, 919, 459, 739, 653, 902, 746, 832]. Используя математические операции, посчитать коэффициенты линейной регрессии, приняв за X заработную плату (то есть, zp - признак), а за y - значения скорингового балла (то есть, ks - целевая переменная). Произвести расчет как с использованием intercept, так и без. ###\n",
    "\n",
    "\n"
   ]
  },
  {
   "cell_type": "code",
   "execution_count": 1,
   "metadata": {},
   "outputs": [
    {
     "name": "stdout",
     "output_type": "stream",
     "text": [
      "444.1773573243596 2.620538882402765\n"
     ]
    }
   ],
   "source": [
    "import numpy as np\n",
    "\n",
    "\n",
    "ks = np.array([401, 574, 874, 919, 459, 739, 653, 902, 746, 832], dtype=np.float64)\n",
    "zp = np.array([35, 45, 190, 200, 40, 70, 54, 150, 120, 110], dtype=np.float64)\n",
    "\n",
    "n = len(zp)\n",
    "\n",
    "b = (np.mean(zp * ks) - np.mean(zp) * np.mean(ks)) / (np.mean(zp**2) - np.mean(zp) ** 2)\n",
    "a = np.mean(ks) - b * np.mean(zp)\n",
    "\n",
    "print(a,b)"
   ]
  },
  {
   "cell_type": "code",
   "execution_count": 4,
   "metadata": {},
   "outputs": [
    {
     "data": {
      "text/plain": [
       "5.889820420132689"
      ]
     },
     "execution_count": 4,
     "metadata": {},
     "output_type": "execute_result"
    }
   ],
   "source": [
    "# При отсутсвии свободного члена в парном уровнении регрессии МНК оценкой ks будет скалярное произведение векторов ks и zp делённое на квадрат длины вектора zp\n",
    "\n",
    "b = (ks @ zp)/(zp @ zp)\n",
    "b"
   ]
  },
  {
   "cell_type": "markdown",
   "metadata": {},
   "source": [
    "### 2. Посчитать коэффициент линейной регрессии при заработной плате (zp), используя градиентный спуск (без intercept). ###"
   ]
  },
  {
   "cell_type": "code",
   "execution_count": 9,
   "metadata": {},
   "outputs": [
    {
     "name": "stdout",
     "output_type": "stream",
     "text": [
      "5.8898\n",
      "565168.58421464\n"
     ]
    }
   ],
   "source": [
    "b_start = 0.1\n",
    "b_increment = 1e-4\n",
    "b_best = 0.1\n",
    "\n",
    "def RSS(b): \n",
    "    ks_estimated = b*zp\n",
    "    return sum((ks_estimated - ks) ** 2)\n",
    "min_value = RSS(b_start)\n",
    "\n",
    "for i in range(-100000,100000):\n",
    "    b_evaluated = b_start + b_increment*i\n",
    "    if RSS(b_evaluated) < min_value:\n",
    "        min_value = RSS(b_evaluated)\n",
    "        b_best = b_evaluated\n",
    "\n",
    "print(b_best)\n",
    "print(min_value)"
   ]
  },
  {
   "cell_type": "markdown",
   "metadata": {},
   "source": [
    "### 3. В каких случаях для вычисления доверительных интервалов и проверки статистических гипотез используется таблица значений функции Лапласа, а в каких - таблица критических точек распределения Стьюдента? ###"
   ]
  },
  {
   "cell_type": "markdown",
   "metadata": {},
   "source": [
    "Проверять гипотезы о незначимости конкретного регрессора можно только когда выполненно хотя бы одно из двух условий:\n",
    "1. Когда N достаточно большое, то используя сходимость функций распределния $$\\frac{\\widehat\\beta - \\beta}{se(\\widehat\\beta)} \\to N_{0,1}\\ при\\ {N \\to \\infty}$$, где $se(\\widehat\\beta)$ - корень из $\\widehat{Var(\\widehat\\beta \\vert X)}$. В таком слуачае можно использовать значения функции распределения стандартного нормального закона для построения ДИ используя таблицу функции Лапласса\n",
    "2. Используется предположение о нормальности ошибок, т.е. $\\epsilon_i \\vert X \\sim N({0,\\sigma^2})$, тогда $$\\frac{\\widehat\\beta - \\beta}{se(\\widehat\\beta)} \\sim t_{N-k}$$, где t - это распределение Стьюдента с N - k степенями свободы. В таком случае будет использоваться таблица распределения Стьюдента.\n",
    "\n",
    "P.S. В методичке не корректно использовать статистику Стьюдента без явного предположения о нормальности ошибок.\n"
   ]
  },
  {
   "cell_type": "code",
   "execution_count": null,
   "metadata": {},
   "outputs": [],
   "source": []
  }
 ],
 "metadata": {
  "colab": {
   "collapsed_sections": [],
   "name": "Матстат - Урок 7.ipynb",
   "provenance": [],
   "version": "0.3.2"
  },
  "kernelspec": {
   "display_name": "Python 3",
   "language": "python",
   "name": "python3"
  },
  "language_info": {
   "codemirror_mode": {
    "name": "ipython",
    "version": 3
   },
   "file_extension": ".py",
   "mimetype": "text/x-python",
   "name": "python",
   "nbconvert_exporter": "python",
   "pygments_lexer": "ipython3",
   "version": "3.7.3"
  }
 },
 "nbformat": 4,
 "nbformat_minor": 1
}
