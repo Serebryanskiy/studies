{
 "cells": [
  {
   "cell_type": "markdown",
   "metadata": {
    "colab_type": "text",
    "id": "qyU0wiO2CG2Q"
   },
   "source": [
    "## Практическое задание к уроку №4 ##"
   ]
  },
  {
   "cell_type": "markdown",
   "metadata": {},
   "source": [
    "__1.__ Найти собственные векторы и собственные значения для линейного оператора, заданного матрицей\n",
    "\n",
    "$$A=\\begin{pmatrix}\n",
    "-1 & -6\\\\ \n",
    "2 & 6\n",
    "\\end{pmatrix}.$$"
   ]
  },
  {
   "cell_type": "markdown",
   "metadata": {
    "colab_type": "text",
    "id": "rRaN3YpCCG1A"
   },
   "source": [
    "Решение:\n",
    "\n",
    "Найдем собственные значения линейного оператора, составив и решив характеристическое уравнение:\n",
    "$$\\begin{vmatrix}\n",
    "-1-\\lambda & -6\\\\ \n",
    "2 & 6-\\lambda\n",
    "\\end{vmatrix} = 0,$$\n",
    "\n",
    "$$(-1-\\lambda)(6-\\lambda)- (-6)\\cdot2=0,$$\n",
    "\n",
    "$$\\lambda^2 +\\lambda -6\\lambda -6 + 12=0,$$\n",
    "\n",
    "$$\\lambda^2 -5\\lambda + 6 = 0,$$\n",
    "\n",
    "$$\\lambda_1 = 2, \\lambda_2 = 3$$\n",
    "\n",
    "Теперь найдём собственные векторы:\n",
    "\n",
    "$$\n",
    "\\left\\{\\begin{array}{l}{(-1-\\lambda) x-6 y=0} \\\\ {2 x+(6-\\lambda) y=0}\\end{array}\\right.\n",
    "$$\n",
    "Подставляем $\\lambda_1 = 2$:\n",
    "$$\n",
    "\\left\\{\\begin{array}{l}{-3 x-6 y=0} \\\\ {2 x+4 y=0}\\end{array} \\Rightarrow x=-2 y\\right.\n",
    "$$\n",
    "Подставляем $\\lambda_2 = 3$:\n",
    "$$\n",
    "\\left\\{\\begin{array}{l}{-4 x-6 y=0} \\\\ {2 x+3 y=0}\\end{array} \\Rightarrow x=-\\frac{3}{2} y\\right.\n",
    "$$\n",
    "\n",
    "Таким образом, собственными векторами матрицы А будут любые векторы из множества: $\\{(x_1,x_2) : x_1 = -2x_2\\} $ и $\\{(x_1,x_2) : x_1 = -\\frac{3}{2} x_2\\}$"
   ]
  },
  {
   "cell_type": "markdown",
   "metadata": {},
   "source": [
    "__2.__ Дан оператор поворота на 180 градусов, задаваемый матрицей \n",
    "\n",
    "$$A=\\begin{pmatrix}\n",
    "-1 & 0\\\\ \n",
    "0 & -1\n",
    "\\end{pmatrix}.$$\n",
    "\n",
    "Показать, что __любой__ вектор является для него собственным."
   ]
  },
  {
   "cell_type": "markdown",
   "metadata": {},
   "source": [
    "Решение:\n",
    "\n",
    "Собственные векторы матрицы А задаются системой уравнения:\n",
    "$$\n",
    "\\left\\{\\begin{array}{l}{(-1-\\lambda) x_1=0} \\\\ {(-1-\\lambda) x_2=0}\\end{array}\\right.\n",
    "$$\n",
    "\n",
    "Таким образом, мы видим, что т.к. каждое из уравнений зависит только от одной переменной, то любая комбинация $x_1,x_2$ будет решением данной системы. Т.е. любой вектор будет являтся собственным вектором матрицы A"
   ]
  },
  {
   "cell_type": "markdown",
   "metadata": {},
   "source": [
    "__3.__ Пусть линейный оператор задан матрицей\n",
    "\n",
    "$$A=\\begin{pmatrix}\n",
    "1 & 1\\\\ \n",
    "-1 & 3\n",
    "\\end{pmatrix}.$$\n",
    "\n",
    "Установить, является ли вектор $x=(1,1)$ собственным вектором этого линейного оператора."
   ]
  },
  {
   "cell_type": "markdown",
   "metadata": {},
   "source": [
    "Решение: \n",
    "\n",
    "Запишем систему уравнений, которой должен удовлетворять собственный вектор, и попробуем найти такие собственные значения, при которых эта система верна.\n",
    "$$\n",
    "\\left\\{\\begin{array}{l}{(1-\\lambda) x-y=0} \\\\ {(-1) x+(3-\\lambda) y=0}\\end{array}\\right. \\Rightarrow\n",
    "\\left\\{\\begin{array}{l}{(1-\\lambda)-1=0} \\\\ {(-1)+(3-\\lambda)=0}\\end{array}\\right. \\Rightarrow\n",
    "\\left\\{\\begin{array}{l}{\\lambda=0} \\\\ {\\lambda=2}\\end{array}\\right.\n",
    "$$\n",
    "Приведённая система не верна, следовательно вектор x не является собственным вектором линейного опреатора A"
   ]
  },
  {
   "cell_type": "markdown",
   "metadata": {},
   "source": [
    "__4.__ Пусть линейный оператор задан матрицей\n",
    "\n",
    "$$A=\\begin{pmatrix}\n",
    "0 & 3 & 0\\\\ \n",
    "3 & 0 & 0\\\\\n",
    "0 & 0 & 3\n",
    "\\end{pmatrix}.$$\n",
    "\n",
    "Установить, является ли вектор $x=(3, -3, -4)$ собственным вектором этого линейного оператора.\n",
    "\n",
    "Решение:\n",
    "$$\\begin{pmatrix}\n",
    "0 & 3 & 0\\\\ \n",
    "3 & 0 & 0\\\\\n",
    "0 & 0 & 3\n",
    "\\end{pmatrix}\n",
    "\\begin{pmatrix}\n",
    "3\\\\\n",
    "-3\\\\\n",
    "-4\n",
    "\\end{pmatrix}=\n",
    "\\lambda\n",
    "\\begin{pmatrix}\n",
    "3\\\\\n",
    "-3\\\\\n",
    "-4\n",
    "\\end{pmatrix}\n",
    "$$\n",
    "\n",
    "$$\\Rightarrow\n",
    "\\begin{cases}\n",
    "-9=3\\lambda\\\\ \n",
    "9 = -3\\lambda\\\\\n",
    "-12 = -4\\lambda\n",
    "\\end{cases}\n",
    "\\Rightarrow\n",
    "\\begin{cases}\n",
    "\\lambda = -3\\\\ \n",
    "\\lambda = -3\\\\\n",
    "\\lambda = 3\n",
    "\\end{cases}$$\n",
    "\n",
    "Таким образом вектор x не является собственным вектором линейного опреатора A"
   ]
  }
 ],
 "metadata": {
  "colab": {
   "collapsed_sections": [
    "u60X7ANcCG2V"
   ],
   "name": "Lesson_5-REVISED.ipynb",
   "provenance": [],
   "version": "0.3.2"
  },
  "kernelspec": {
   "display_name": "Python 3",
   "language": "python",
   "name": "python3"
  },
  "language_info": {
   "codemirror_mode": {
    "name": "ipython",
    "version": 3
   },
   "file_extension": ".py",
   "mimetype": "text/x-python",
   "name": "python",
   "nbconvert_exporter": "python",
   "pygments_lexer": "ipython3",
   "version": "3.7.3"
  }
 },
 "nbformat": 4,
 "nbformat_minor": 4
}
