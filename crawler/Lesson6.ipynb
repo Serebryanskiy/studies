{
 "cells": [
  {
   "cell_type": "markdown",
   "metadata": {},
   "source": [
    "### 1. Написать программу, которая собирает входящие письма из своего или тестового почтового ящика и сложить данные о письмах в базу данных (от кого, дата отправки, тема письма, текст письма) ###"
   ]
  },
  {
   "cell_type": "code",
   "execution_count": 36,
   "metadata": {},
   "outputs": [
    {
     "name": "stdout",
     "output_type": "stream",
     "text": [
      "{'from': '  Codecademy<learn@codecademy.com>', 'subject': \"There's a better path\", 'date': 'Mon, Jul 15, 2019 at 11:18 PM', 'text': \"    If you can’t see this email - View it in your browser.\\n                Web Development Path Update!\\n  This week, we’ve launched updates to improve one of our most popular paths: the Web Development Path. If you’re unfamiliar, Paths are a more guided learning journey than our one off courses. You choose what you want (to learn a skill, build a thing, get qualified for a promotion) and we guide you through different languages, projects, and quizzes to get you to your desired outcome.\\n  The Web Development path will teach you how build polished websites and web applications. You'll learn how to develop applications locally, and work on real-world style projects which tie together everything you've learned.\\n  Generally, Paths are a Pro only feature but the first milestone in the Web Development Path is free and this update has added an additional lesson. So check it out and see what you’re missing out in Pro.\\n  For more information on the update and everything that has been added check out our blog.\\n      Bonus Video: Java vs. Javascript Java and JavaScript – they sound similar, but they're actually very different. Even if you already knew that, you may not know how or why they're so dissimilar but have such similar names. This video will put all the confusion to rest.\\n  Happy Coding,\\nCodecademy\\n            Copyright © Codecademy. All rights reserved.\\n  Our mailing address is:\\n575 Broadway, 5th Floor\\nNew York City, NY 10012, USA\\n  Privacy Policy | Unsubscribe\\n     \", 'id': '  Codecademy<learn@codecademy.com>_Mon, Jul 15, 2019 at 11:18 PM'}\n",
      "{'writeErrors': [], 'writeConcernErrors': [], 'nInserted': 0, 'nUpserted': 50, 'nMatched': 0, 'nModified': 0, 'nRemoved': 0, 'upserted': [{'index': 0, '_id': ObjectId('5d2dbd9e12d9f43b7ff5925f')}, {'index': 1, '_id': ObjectId('5d2dbd9e12d9f43b7ff59260')}, {'index': 2, '_id': ObjectId('5d2dbd9e12d9f43b7ff59261')}, {'index': 3, '_id': ObjectId('5d2dbd9e12d9f43b7ff59262')}, {'index': 4, '_id': ObjectId('5d2dbd9e12d9f43b7ff59263')}, {'index': 5, '_id': ObjectId('5d2dbd9e12d9f43b7ff59264')}, {'index': 6, '_id': ObjectId('5d2dbd9e12d9f43b7ff59265')}, {'index': 7, '_id': ObjectId('5d2dbd9e12d9f43b7ff59266')}, {'index': 8, '_id': ObjectId('5d2dbd9e12d9f43b7ff59267')}, {'index': 9, '_id': ObjectId('5d2dbd9e12d9f43b7ff59268')}, {'index': 10, '_id': ObjectId('5d2dbd9e12d9f43b7ff59269')}, {'index': 11, '_id': ObjectId('5d2dbd9e12d9f43b7ff5926a')}, {'index': 12, '_id': ObjectId('5d2dbd9e12d9f43b7ff5926b')}, {'index': 13, '_id': ObjectId('5d2dbd9e12d9f43b7ff5926c')}, {'index': 14, '_id': ObjectId('5d2dbd9e12d9f43b7ff5926d')}, {'index': 15, '_id': ObjectId('5d2dbd9e12d9f43b7ff5926e')}, {'index': 16, '_id': ObjectId('5d2dbd9e12d9f43b7ff5926f')}, {'index': 17, '_id': ObjectId('5d2dbd9e12d9f43b7ff59270')}, {'index': 18, '_id': ObjectId('5d2dbd9e12d9f43b7ff59271')}, {'index': 19, '_id': ObjectId('5d2dbd9e12d9f43b7ff59272')}, {'index': 20, '_id': ObjectId('5d2dbd9e12d9f43b7ff59273')}, {'index': 21, '_id': ObjectId('5d2dbd9e12d9f43b7ff59274')}, {'index': 22, '_id': ObjectId('5d2dbd9e12d9f43b7ff59275')}, {'index': 23, '_id': ObjectId('5d2dbd9e12d9f43b7ff59276')}, {'index': 24, '_id': ObjectId('5d2dbd9e12d9f43b7ff59277')}, {'index': 25, '_id': ObjectId('5d2dbd9e12d9f43b7ff59278')}, {'index': 26, '_id': ObjectId('5d2dbd9e12d9f43b7ff59279')}, {'index': 27, '_id': ObjectId('5d2dbd9e12d9f43b7ff5927a')}, {'index': 28, '_id': ObjectId('5d2dbd9e12d9f43b7ff5927b')}, {'index': 29, '_id': ObjectId('5d2dbd9e12d9f43b7ff5927c')}, {'index': 30, '_id': ObjectId('5d2dbd9e12d9f43b7ff5927d')}, {'index': 31, '_id': ObjectId('5d2dbd9e12d9f43b7ff5927e')}, {'index': 32, '_id': ObjectId('5d2dbd9e12d9f43b7ff5927f')}, {'index': 33, '_id': ObjectId('5d2dbd9e12d9f43b7ff59280')}, {'index': 34, '_id': ObjectId('5d2dbd9e12d9f43b7ff59281')}, {'index': 35, '_id': ObjectId('5d2dbd9e12d9f43b7ff59282')}, {'index': 36, '_id': ObjectId('5d2dbd9e12d9f43b7ff59283')}, {'index': 37, '_id': ObjectId('5d2dbd9e12d9f43b7ff59284')}, {'index': 38, '_id': ObjectId('5d2dbd9e12d9f43b7ff59285')}, {'index': 39, '_id': ObjectId('5d2dbd9e12d9f43b7ff59286')}, {'index': 40, '_id': ObjectId('5d2dbd9e12d9f43b7ff59287')}, {'index': 41, '_id': ObjectId('5d2dbd9e12d9f43b7ff59288')}, {'index': 42, '_id': ObjectId('5d2dbd9e12d9f43b7ff59289')}, {'index': 43, '_id': ObjectId('5d2dbd9e12d9f43b7ff5928a')}, {'index': 44, '_id': ObjectId('5d2dbd9e12d9f43b7ff5928b')}, {'index': 45, '_id': ObjectId('5d2dbd9e12d9f43b7ff5928c')}, {'index': 46, '_id': ObjectId('5d2dbd9e12d9f43b7ff5928d')}, {'index': 47, '_id': ObjectId('5d2dbd9e12d9f43b7ff5928e')}, {'index': 48, '_id': ObjectId('5d2dbd9e12d9f43b7ff5928f')}, {'index': 49, '_id': ObjectId('5d2dbd9e12d9f43b7ff59290')}]}\n",
      "{'_id': ObjectId('5d2dbd9e12d9f43b7ff5925f'),\n",
      " 'date': 'Tue, Jul 16, 2019 at 5:49 PM',\n",
      " 'from': '  Google<no-reply@accounts.google.com>',\n",
      " 'id': '  Google<no-reply@accounts.google.com>_Tue, Jul 16, 2019 at 5:49 PM',\n",
      " 'subject': 'Security alert',\n",
      " 'text': 'New device signed in to\\n'\n",
      "         'katekovna@gmail.com\\n'\n",
      "         'Your Google Account was just signed in to from a new Mac device. '\n",
      "         \"You're getting this email to make sure it was you.\\n\"\n",
      "         'Check activity\\n'\n",
      "         'You received this email to let you know about important changes to '\n",
      "         'your Google Account and services.\\n'\n",
      "         '© 2019 Google LLC, 1600 Amphitheatre Parkway, Mountain View, CA '\n",
      "         '94043, USA'}\n"
     ]
    }
   ],
   "source": [
    "import pprint\n",
    "from selenium import webdriver          #Основной элемент\n",
    "from selenium.webdriver.support.ui import Select   #Поле множественного выбора\n",
    "from selenium.webdriver.common.keys import Keys    #Клавиши клавиатуры\n",
    "import time\n",
    "from pymongo import MongoClient, UpdateOne\n",
    "import random\n",
    "\n",
    "client = MongoClient('')\n",
    "inbox = client.crawler.inbox\n",
    "\n",
    "driver = webdriver.Chrome()\n",
    "driver.get('https://mail.google.com/?ui=html')\n",
    "assert 'Gmail' == driver.title\n",
    "    \n",
    "elem = driver.find_element_by_id(\"identifierId\")\n",
    "elem.send_keys('katekovna')\n",
    "elem.send_keys(Keys.RETURN)\n",
    "time.sleep(2)\n",
    "elem = driver.find_element_by_name('password')\n",
    "elem.send_keys('')\n",
    "elem.send_keys(Keys.RETURN)\n",
    "time.sleep(5)\n",
    "\n",
    "base_xpath = '/html/body/table[2]/tbody/tr/td[2]/table[1]/tbody/tr/td[2]/table[4]/tbody/tr/td/table[1]/tbody/'\n",
    "update_list = []\n",
    "for i in range(1,51):\n",
    "    elem = driver.find_element_by_xpath(base_xpath[:59] + 'form/table[2]/tbody/tr[' + str(i) + ']/td[3]/a')\n",
    "    elem.click()\n",
    "    letter = {}\n",
    "    letter['from'] = driver.find_element_by_xpath(base_xpath + 'tr[1]/td[1]').text\n",
    "    letter['subject'] = driver.find_element_by_xpath(base_xpath[:59] + 'table[3]/tbody/tr/td/h2/font/b').text\n",
    "    letter['date'] = driver.find_element_by_xpath(base_xpath + 'tr[1]/td[2]').text\n",
    "    letter['text'] = driver.find_element_by_xpath(base_xpath + 'tr[4]').text\n",
    "    letter['id'] = letter['from'] + '_' + letter['date']\n",
    "    if i == 2:\n",
    "        print(letter)\n",
    "        \n",
    "    update_list.append(UpdateOne({\"id\": letter['id']}, {\"$set\": letter}, upsert=True))\n",
    "    driver.back()\n",
    "    time.sleep(random.random())  # Не будем совсем уж палится, введём рандомную задержку между кликами\n",
    "print(inbox.bulk_write(update_list).bulk_api_result)\n",
    "pprint.pprint(inbox.find_one())\n",
    "driver.quit()"
   ]
  },
  {
   "cell_type": "markdown",
   "metadata": {},
   "source": [
    "### 2. Написать программу, которая собирает «Хиты продаж» с сайтов техники mvideo, onlinetrade и складывает данные в БД. Магазины можно выбрать свои. Главный критерий выбора: динамически загружаемые товары ###"
   ]
  },
  {
   "cell_type": "code",
   "execution_count": 87,
   "metadata": {},
   "outputs": [
    {
     "name": "stdout",
     "output_type": "stream",
     "text": [
      "{'writeErrors': [], 'writeConcernErrors': [], 'nInserted': 0, 'nUpserted': 19, 'nMatched': 0, 'nModified': 0, 'nRemoved': 0, 'upserted': [{'index': 0, '_id': ObjectId('5d2ddc4a12d9f43b7ff5aa8c')}, {'index': 1, '_id': ObjectId('5d2ddc4a12d9f43b7ff5aa8d')}, {'index': 2, '_id': ObjectId('5d2ddc4a12d9f43b7ff5aa8e')}, {'index': 3, '_id': ObjectId('5d2ddc4a12d9f43b7ff5aa8f')}, {'index': 4, '_id': ObjectId('5d2ddc4a12d9f43b7ff5aa90')}, {'index': 5, '_id': ObjectId('5d2ddc4a12d9f43b7ff5aa91')}, {'index': 6, '_id': ObjectId('5d2ddc4a12d9f43b7ff5aa92')}, {'index': 7, '_id': ObjectId('5d2ddc4a12d9f43b7ff5aa93')}, {'index': 8, '_id': ObjectId('5d2ddc4a12d9f43b7ff5aa94')}, {'index': 9, '_id': ObjectId('5d2ddc4a12d9f43b7ff5aa95')}, {'index': 10, '_id': ObjectId('5d2ddc4a12d9f43b7ff5aa96')}, {'index': 11, '_id': ObjectId('5d2ddc4a12d9f43b7ff5aa97')}, {'index': 12, '_id': ObjectId('5d2ddc4a12d9f43b7ff5aa98')}, {'index': 13, '_id': ObjectId('5d2ddc4a12d9f43b7ff5aa99')}, {'index': 14, '_id': ObjectId('5d2ddc4a12d9f43b7ff5aa9a')}, {'index': 15, '_id': ObjectId('5d2ddc4a12d9f43b7ff5aa9b')}, {'index': 16, '_id': ObjectId('5d2ddc4a12d9f43b7ff5aa9c')}, {'index': 17, '_id': ObjectId('5d2ddc4a12d9f43b7ff5aa9d')}, {'index': 18, '_id': ObjectId('5d2ddc4a12d9f43b7ff5aa9e')}]}\n",
      "{'_id': ObjectId('5d2ddc4a12d9f43b7ff5aa8c'),\n",
      " 'id': '50110516',\n",
      " 'productCategoryName': 'Наушники',\n",
      " 'productId': '50110516',\n",
      " 'productName': 'Спортивные наушники Bluetooth Honor Sport AM61 Red ',\n",
      " 'productPriceLocal': '2190.00',\n",
      " 'productVendorName': 'Honor'}\n"
     ]
    }
   ],
   "source": [
    "import json\n",
    "from selenium.webdriver.common.action_chains import ActionChains\n",
    "from selenium import webdriver\n",
    "from selenium.webdriver.support import expected_conditions as EC\n",
    "from selenium.webdriver.support.ui import WebDriverWait\n",
    "\n",
    "client = MongoClient('')\n",
    "hits = client.crawler.hits\n",
    "\n",
    "driver = webdriver.Chrome()\n",
    "driver.get('https://www.mvideo.ru/')\n",
    "assert 'М.Видео' in driver.title\n",
    "\n",
    "time.sleep(2)\n",
    "\n",
    "element = driver.find_element_by_xpath('/html/body/div/div/div[1]')\n",
    "actions = ActionChains(driver)\n",
    "actions.move_to_element(element).click().perform()\n",
    "\n",
    "buttons = driver.find_elements_by_class_name('sel-hits-button-next')\n",
    "driver.execute_script(\"arguments[0].scrollIntoView();\", buttons[1])\n",
    "\n",
    "time.sleep(2)\n",
    "\n",
    "for _ in range (0,5):\n",
    "    driver.execute_script(\"arguments[0].click();\", buttons[1])\n",
    "    time.sleep(3)\n",
    "    \n",
    "elements = driver.find_elements_by_class_name('sel-product-tile-title')\n",
    "keys_to_store = ['productCategoryName', 'productName', 'productPriceLocal' , 'productVendorName', 'productId' ]\n",
    "update_list = []\n",
    "for element in elements[:19]:\n",
    "    to_db = {key:value for key,value in json.loads(element.get_attribute('data-product-info')).items() if key in keys_to_store}\n",
    "    update_list.append(UpdateOne({\"id\": to_db['productId']}, {\"$set\": to_db}, upsert=True))    \n",
    "\n",
    "print(hits.bulk_write(update_list).bulk_api_result)\n",
    "pprint.pprint(hits.find_one())\n",
    "driver.quit()"
   ]
  }
 ],
 "metadata": {
  "kernelspec": {
   "display_name": "Python 3",
   "language": "python",
   "name": "python3"
  },
  "language_info": {
   "codemirror_mode": {
    "name": "ipython",
    "version": 3
   },
   "file_extension": ".py",
   "mimetype": "text/x-python",
   "name": "python",
   "nbconvert_exporter": "python",
   "pygments_lexer": "ipython3",
   "version": "3.7.3"
  }
 },
 "nbformat": 4,
 "nbformat_minor": 2
}
