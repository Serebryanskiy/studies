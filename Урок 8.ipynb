{
 "cells": [
  {
   "cell_type": "markdown",
   "metadata": {},
   "source": [
    "#### Провести дисперсионный анализ для определения того, есть ли различия среднего роста среди взрослых футболистов, хоккеистов и штангистов. Даны значения роста в трех группах случайно выбранных спортсменов: Футболисты: 173, 175, 180, 178, 177, 185, 183, 182. Хоккеисты: 177, 179, 180, 188, 177, 172, 171, 184, 180. Штангисты: 172, 173, 169, 177, 166, 180, 178, 177, 172, 166, 170. ####"
   ]
  },
  {
   "cell_type": "code",
   "execution_count": 14,
   "metadata": {
    "colab": {},
    "colab_type": "code",
    "id": "Og2fZ_bgYo6r"
   },
   "outputs": [
    {
     "name": "stdout",
     "output_type": "stream",
     "text": [
      "{'data': array([173, 175, 180, 178, 177, 185, 183, 182]), 'name': 'футболисты', 'length': 8, 'mean': 179.125, 'tss': 118.875}\n",
      "{'data': array([177, 179, 180, 188, 177, 172, 171, 184, 180]), 'name': 'хокеисты', 'length': 9, 'mean': 178.66666666666666, 'tss': 227.99999999999997}\n",
      "{'data': array([172, 173, 169, 177, 166, 180, 178, 177, 172, 166, 170]), 'name': 'штангисты', 'length': 11, 'mean': 172.72727272727272, 'tss': 230.1818181818182}\n",
      "{'data': array([173, 175, 180, 178, 177, 185, 183, 182, 177, 179, 180, 188, 177,\n",
      "       172, 171, 184, 180, 172, 173, 169, 177, 166, 180, 178, 177, 172,\n",
      "       166, 170]), 'name': 'общее', 'length': 28, 'mean': 176.46428571428572, 'tss': 830.9642857142854}\n"
     ]
    }
   ],
   "source": [
    "import numpy as np\n",
    "\n",
    "class Sample:\n",
    "    def __init__(self,data,name):\n",
    "        self.data = np.array(data)\n",
    "        self.name = name\n",
    "        self.length = self.data.size\n",
    "        self.mean = np.mean(self.data)\n",
    "        self.tss = np.sum((self.data - self.mean) ** 2)\n",
    "\n",
    "footbal = Sample([173, 175, 180, 178, 177, 185, 183, 182], 'футболисты')\n",
    "hockey = Sample([177, 179, 180, 188, 177, 172, 171, 184, 180], 'хокеисты')\n",
    "weightlift = Sample([172, 173, 169, 177, 166, 180, 178, 177, 172, 166, 170], 'штангисты')\n",
    "\n",
    "overall = Sample(np.concatenate([footbal.data,hockey.data,weightlift.data]),'общее')\n",
    "\n",
    "print(footbal.__dict__)\n",
    "print(hockey.__dict__)\n",
    "print(weightlift.__dict__)\n",
    "print(overall.__dict__)\n",
    "\n",
    "\n"
   ]
  },
  {
   "cell_type": "markdown",
   "metadata": {},
   "source": [
    "Видим, что средние значения незначительно отличаются друг от друга и от общего среднего в том числе.\n",
    "Т.к. количество наблюдений не достаточно велико мы не можем использовать статику хи-квадрат поэтому будем использовать статистику Фишера в предположении о нормальности ошибок измерения.\n",
    "\n",
    "Сформулируем $H_0$ гипотезу о равенстве средних групповых значений:\n",
    "    $$(H_0: \\overline{football} = \\overline{hockey} = \\overline{weightlift})$$\n",
    "    \n",
    "\n"
   ]
  },
  {
   "cell_type": "markdown",
   "metadata": {
    "colab_type": "text",
    "id": "VJMVJVQCYo6W"
   },
   "source": [
    "Чтобы проверить эту гипотезу, расчитаем наблюдаемое значение статистики Фишера со степенями свободы $df_{межд} = k - 1 = 3 - 1 = 2$ и $df_{внутр} = n - k = 28 - 3 = 25$."
   ]
  },
  {
   "cell_type": "markdown",
   "metadata": {
    "colab_type": "text",
    "id": "yyHcH5WtYo6Y"
   },
   "source": [
    "$$F_H = \\frac{\\widehat\\sigma_{F}^{2}}{\\widehat\\sigma_{ост}^{2}}$$"
   ]
  },
  {
   "cell_type": "markdown",
   "metadata": {
    "colab_type": "text",
    "id": "SGWSpxMYYo6b"
   },
   "source": [
    "Для этого найдём оценку дисперсии фактороной и остаточной дисперсий.\n",
    "\n",
    "Оценка факторной дисперсии:\n",
    "$$\\widehat\\sigma_{F}^{2} = \\frac{1}{k-1}\\sum\\limits_{i=1}^{k}(\\overline{y}_i - \\overline{Y})^{2}n_i$$\n",
    "\n",
    "Оценка остаточной дисперсии:\n",
    "$$\\widehat\\sigma_{ост}^{2} = \\frac{1}{n - k}\\sum\\limits_{i=1}^{k}\\sum\\limits_{j=1}^{n_i}(y_{ij} - \\overline{y}_i)^2$$"
   ]
  },
  {
   "cell_type": "code",
   "execution_count": 15,
   "metadata": {
    "colab_type": "text",
    "id": "AJguqUuTYo6J"
   },
   "outputs": [
    {
     "name": "stdout",
     "output_type": "stream",
     "text": [
      "830.9642857142854 830.964285714286\n",
      "var_f 126.9537337662339\n",
      "var_r 23.08227272727273\n",
      "F_obs 5.500053450812598\n"
     ]
    }
   ],
   "source": [
    "ESS = sum([footbal.length * (footbal.mean - overall.mean) ** 2, hockey.length * (hockey.mean - overall.mean) ** 2,weightlift.length * (weightlift.mean - overall.mean) ** 2])\n",
    "RSS = sum([footbal.tss, hockey.tss, weightlift.tss])\n",
    "TSS = overall.tss\n",
    "\n",
    "var_f = ESS/(3 - 1)\n",
    "var_r = RSS/ (overall.length - 3)\n",
    "\n",
    "print(TSS, ESS + RSS)\n",
    "print('var_f',var_f)\n",
    "print('var_r',var_r)\n",
    "print('F_obs',var_f / var_r)\n"
   ]
  },
  {
   "cell_type": "markdown",
   "metadata": {},
   "source": [
    "Наёдем какому уровню значимости соответсвует данное значение статистики."
   ]
  },
  {
   "cell_type": "code",
   "execution_count": 26,
   "metadata": {},
   "outputs": [
    {
     "name": "stdout",
     "output_type": "stream",
     "text": [
      "Уровень надёжности 0.9895174039896039\n",
      "Уровень значимости 0.010482596010396139\n"
     ]
    }
   ],
   "source": [
    "from scipy.stats import f\n",
    "\n",
    "print('Уровень надёжности', f.cdf(5.5, 2, 25))\n",
    "print('Уровень значимости', 1 - f.cdf(5.5, 2, 25))"
   ]
  },
  {
   "cell_type": "markdown",
   "metadata": {},
   "source": [
    "Таким образом, при уровне значимости большем, чем 0.0105 гипотеза $H_0$ будет не отвергаться, при уровне значимости меньшем, чем 0.0105 гипотеза $H_0$ будет отвергаться"
   ]
  }
 ],
 "metadata": {
  "colab": {
   "name": "Матстат - Урок 8.ipynb",
   "provenance": [],
   "version": "0.3.2"
  },
  "kernelspec": {
   "display_name": "Python 3",
   "language": "python",
   "name": "python3"
  },
  "language_info": {
   "codemirror_mode": {
    "name": "ipython",
    "version": 3
   },
   "file_extension": ".py",
   "mimetype": "text/x-python",
   "name": "python",
   "nbconvert_exporter": "python",
   "pygments_lexer": "ipython3",
   "version": "3.7.3"
  }
 },
 "nbformat": 4,
 "nbformat_minor": 1
}
