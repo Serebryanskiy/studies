{
 "cells": [
  {
   "cell_type": "markdown",
   "metadata": {},
   "source": [
    "## Дифференциальное исчисление ##"
   ]
  },
  {
   "cell_type": "markdown",
   "metadata": {},
   "source": [
    "### Задание 1. Найти производную выражения ###\n",
    "$$\n",
    "\\sin x \\cdot \\cos x\n",
    "$$"
   ]
  },
  {
   "cell_type": "markdown",
   "metadata": {},
   "source": [
    "### Задание 2. Найти производную выражения ###\n",
    "\n",
    "$$\n",
    "\\ln (2 x+1)^{3}\n",
    "$$"
   ]
  },
  {
   "cell_type": "markdown",
   "metadata": {},
   "source": [
    "### Задание 3. Найти производную выражения ###\n",
    "$$\n",
    "\\sqrt{\\sin ^{2}\\left(\\ln \\left(x^{3}\\right)\\right)}\n",
    "$$"
   ]
  },
  {
   "cell_type": "markdown",
   "metadata": {},
   "source": [
    "### Задание 4. Найти производную выражения ###\n",
    "$$\n",
    "\\frac{x^{4}}{\\ln (x)}\n",
    "$$"
   ]
  },
  {
   "cell_type": "markdown",
   "metadata": {},
   "source": [
    "### Задание 5. найти выражение производной функции и ее значение в точке. ###\n",
    "\n",
    "$$\n",
    "f(x)=\\cos \\left(x^{2}+3 x\\right), x_{0}=\\sqrt{\\pi}\n",
    "$$"
   ]
  },
  {
   "cell_type": "markdown",
   "metadata": {},
   "source": [
    "### Задание 6. *найти значение производной функции в точке. ###\n",
    "$$\n",
    "f(x)=\\frac{x^{3}-x^{2}-x-1}{1+2 x+3 x^{2}-4 x^{3}}, x_{0}=0\n",
    "$$"
   ]
  },
  {
   "cell_type": "markdown",
   "metadata": {},
   "source": [
    "### Задание 7. *найти угол наклона касательной к графику функции в точке. ###\n",
    "$$\n",
    "f(x)=\\sqrt{3 x} \\cdot \\ln x, x_{0}=1\n",
    "$$"
   ]
  },
  {
   "cell_type": "markdown",
   "metadata": {},
   "source": [
    "## Ряды ##"
   ]
  },
  {
   "cell_type": "markdown",
   "metadata": {},
   "source": [
    "### Задание 1. исследовать ряд на сходимость, используя признак д’Аламбера ###\n",
    "$$\n",
    "\\sum_{n=1}^{\\infty} \\frac{n^{n}}{(n !)^{2}}\n",
    "$$"
   ]
  },
  {
   "cell_type": "markdown",
   "metadata": {},
   "source": [
    "### Задание 2. исследовать ряд на сходимость, используя радикальный признак Коши ###\n",
    "$$\n",
    "\\sum_{n=1}^{\\infty} \\frac{n}{2^{n}}\n",
    "$$"
   ]
  },
  {
   "cell_type": "markdown",
   "metadata": {},
   "source": [
    "### Задание 3. исследовать ряд на сходимость, используя признак Лейбница ###\n",
    "$$\n",
    "\\sum_{n=1}^{\\infty} \\frac{(-1)^{n}}{n+\\ln n}\n",
    "$$"
   ]
  },
  {
   "cell_type": "markdown",
   "metadata": {},
   "source": [
    "### Задание 4. исследовать ряд на сходимость, используя признак Раабе ###\n",
    "$$\n",
    "\\sum_{n=1}^{\\infty} \\frac{3^{n}}{2^{n}}\n",
    "$$"
   ]
  },
  {
   "cell_type": "markdown",
   "metadata": {},
   "source": [
    "### Задание 5. разложить функцию по Тейлору в единице ###\n",
    "$$\n",
    "f(x)=\\ln \\left(16 x^{2}\\right)\n",
    "$$"
   ]
  },
  {
   "cell_type": "markdown",
   "metadata": {},
   "source": [
    "### Задание 6. *разложить функцию в ряд Фурье по косинусам на отрезке $x \\in[-2 ; 0]$ ###\n",
    "$$\n",
    "f(x)=x^{2}\n",
    "$$"
   ]
  },
  {
   "cell_type": "markdown",
   "metadata": {},
   "source": [
    "### Задание 7. *построить график функции и ее разложения ###\n",
    "$$\n",
    "f(x)=x^{2}\n",
    "$$"
   ]
  }
 ],
 "metadata": {
  "kernelspec": {
   "display_name": "Python 3",
   "language": "python",
   "name": "python3"
  },
  "language_info": {
   "codemirror_mode": {
    "name": "ipython",
    "version": 3
   },
   "file_extension": ".py",
   "mimetype": "text/x-python",
   "name": "python",
   "nbconvert_exporter": "python",
   "pygments_lexer": "ipython3",
   "version": "3.7.3"
  }
 },
 "nbformat": 4,
 "nbformat_minor": 2
}
