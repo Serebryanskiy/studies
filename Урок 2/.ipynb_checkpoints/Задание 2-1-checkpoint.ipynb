{
 "cells": [
  {
   "cell_type": "code",
   "execution_count": 18,
   "metadata": {},
   "outputs": [
    {
     "name": "stdout",
     "output_type": "stream",
     "text": [
      "Из 100 наблюдений, событие А произошло 44 раз, событие B 56 раз, событе A+B 100 раз\n",
      "Таким образом W(A)=0.44, W(B)=0.56, W(A+B)=1.00 \n",
      "Из 1000 наблюдений, событие А произошло 521 раз, событие B 479 раз, событе A+B 1000 раз\n",
      "Таким образом W(A)=0.52, W(B)=0.48, W(A+B)=1.00 \n",
      "Из 10000 наблюдений, событие А произошло 5062 раз, событие B 4938 раз, событе A+B 10000 раз\n",
      "Таким образом W(A)=0.51, W(B)=0.49, W(A+B)=1.00 \n"
     ]
    }
   ],
   "source": [
    "# 2.1 Напишите код, проверяющий любую из теорем сложения или умножения вероятности на примере подбрасывания монетки.\n",
    "# События A и B называются несовместными, если они не могут произойти одновременно\n",
    "# Пусть событие A \"Выпала решка\", событие B \"Выпал орёл\", события несовместны\n",
    "# Если A и B несовместны, то согласно теореме P(A+B) = P(A) + P(B)\n",
    "# При N стремящимся к бесконечности W(A)->P(A), W(B)->P(B), W(A+B)->P(A+B)\n",
    "# Соответсвенно, если мы будем получать W(A+B) = W(A) + W(B) при больших N, то можно сказать, что теорема выполняется\n",
    "import numpy as np\n",
    "\n",
    "\n",
    "def experiment(N):\n",
    "    heads, tail, headsortail = 0, 0, 0\n",
    "\n",
    "    for i in range(0, N):\n",
    "        result = np.random.uniform(0, 1)\n",
    "        monte = int(result * 2)\n",
    "        if monte == 0:  # произошло событие A\n",
    "            heads += 1\n",
    "        else:  # произошло событие B\n",
    "            tail += 1\n",
    "        if monte == 0 or monte == 1:  # произошло либо событие A либо B\n",
    "            headsortail += 1\n",
    "    print(f'Из {N} наблюдений, событие А произошло {heads} раз, событие B {tail} раз, событе A+B {headsortail} раз')\n",
    "    print(f'Таким образом W(A)={heads / N:.2f}, W(B)={tail / N:.2f}, W(A+B)={headsortail / N:.2f} ')\n",
    "\n",
    "\n",
    "experiment(100)\n",
    "experiment(1000)\n",
    "experiment(10000)"
   ]
  },
  {
   "cell_type": "code",
   "execution_count": null,
   "metadata": {},
   "outputs": [],
   "source": []
  }
 ],
 "metadata": {
  "kernelspec": {
   "display_name": "Python 3",
   "language": "python",
   "name": "python3"
  },
  "language_info": {
   "codemirror_mode": {
    "name": "ipython",
    "version": 3
   },
   "file_extension": ".py",
   "mimetype": "text/x-python",
   "name": "python",
   "nbconvert_exporter": "python",
   "pygments_lexer": "ipython3",
   "version": "3.7.2"
  }
 },
 "nbformat": 4,
 "nbformat_minor": 2
}
