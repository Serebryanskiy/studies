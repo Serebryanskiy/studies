{
 "cells": [
  {
   "cell_type": "code",
   "execution_count": 34,
   "metadata": {},
   "outputs": [
    {
     "name": "stdout",
     "output_type": "stream",
     "text": [
      "Starting experiment with 1000 observations, 4 experiments, 2 success, 0.5 probability \n",
      "{'probability': 0.375, 'const': 6.0}\n",
      "{'successed': 384, 'observations': 1000, 'evaluated p': 0.384}\n",
      "\n",
      "Starting experiment with 1000 observations, 10 experiments, 3 success, 0.5 probability \n",
      "{'probability': 0.1171875, 'const': 120.0}\n",
      "{'successed': 119, 'observations': 1000, 'evaluated p': 0.119}\n",
      "\n"
     ]
    }
   ],
   "source": [
    "# 3.1 Дополните код Монте-Карло последовательности независимых испытаний расчетом соответствующих \n",
    "# вероятностей (через биномиальное распределение) и сравните результаты.\n",
    "# 3.2 Повторите расчеты, взяв другие значения n и k.\n",
    "\n",
    "\n",
    "import numpy as np\n",
    "from math import factorial\n",
    "\n",
    "\n",
    "def probability(n, k, p):\n",
    "    c = factorial(n) / (factorial(k) * factorial(n - k))\n",
    "    return {\"probability\": c * (p ** k) * (1 - p) ** (n - k), \"const\": c}\n",
    "\n",
    "\n",
    "def experiment(N, n, k, p):\n",
    "    success = 0;\n",
    "    print(f'Starting experiment with {N} observations, {n} experiments, {k} success, {p} probability ')\n",
    "\n",
    "    experiment_array = []\n",
    "    for i in range(0, n):\n",
    "        experiment_array.append(np.random.randint(0, 2, N))\n",
    "\n",
    "    success_array = np.sum(experiment_array, axis=0)   \n",
    "\n",
    "    print(probability(n, k, p))\n",
    "\n",
    "    for i in range(0, N):\n",
    "        if success_array[i] == k:\n",
    "            success += 1\n",
    "\n",
    "    print({\"successed\": success, \"observations\": N, \"evaluated p\": success / N})\n",
    "    print('')\n",
    "\n",
    "\n",
    "experiment(1000, 4, 2, 0.5)\n",
    "experiment(500, 10, 3, 0.5)\n"
   ]
  }
 ],
 "metadata": {
  "kernelspec": {
   "display_name": "Python 3",
   "language": "python",
   "name": "python3"
  },
  "language_info": {
   "codemirror_mode": {
    "name": "ipython",
    "version": 3
   },
   "file_extension": ".py",
   "mimetype": "text/x-python",
   "name": "python",
   "nbconvert_exporter": "python",
   "pygments_lexer": "ipython3",
   "version": "3.7.2"
  }
 },
 "nbformat": 4,
 "nbformat_minor": 2
}
